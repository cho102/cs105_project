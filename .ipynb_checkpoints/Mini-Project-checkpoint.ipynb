{
 "cells": [
  {
   "cell_type": "code",
   "execution_count": 25,
   "id": "1bc12f72",
   "metadata": {},
   "outputs": [],
   "source": [
    "%matplotlib inline\n",
    "import pandas as pd\n",
    "import numpy as np \n",
    "import matplotlib.pyplot as plt\n",
    "from math import pi\n",
    "import seaborn as sns"
   ]
  },
  {
   "cell_type": "markdown",
   "id": "1fec17f0",
   "metadata": {},
   "source": [
    "# Question 1. What data do you have?"
   ]
  },
  {
   "cell_type": "markdown",
   "id": "0a7dfd4f",
   "metadata": {},
   "source": [
    "### Expain Here:\n",
    "\n",
    "We have numerical and cateogrical data which we are using to analyze the question whether the stereotypes of introverts and extroverts are true. We are exmaining data regarding students' GPA, club activity, number of siblings, major, and academics to determine if any of these data have an effect on whether a person is an introvert or extrovert. "
   ]
  },
  {
   "cell_type": "markdown",
   "id": "29951613",
   "metadata": {},
   "source": []
  },
  {
   "cell_type": "code",
   "execution_count": 26,
   "id": "78edf4f2",
   "metadata": {},
   "outputs": [],
   "source": [
    "raw_df = pd.read_csv(\"survey_responses.csv\")\n",
    "df1 = raw_df.drop(raw_df.columns[[0, 1, 2, 3, 4, 5, 6, 10, 11, 12, 13, 16, 17, 18, 19, 21, 23, 24, 25, 26, 30, 31, 32, 33, 34, 35, 40, 41, 42, 43, 44, 45, 46, 47, 48, 49, 50, 51, 52, 53, 54, 55, 56, 57, 58, 64, 65, 66, 67, 68, 69, 70, 71, 72, 73, 74, 80, 81, 82, 83]],axis = 1)"
   ]
  },
  {
   "cell_type": "markdown",
   "id": "ba7bc036",
   "metadata": {},
   "source": [
    "### Clean Up Dataframe"
   ]
  },
  {
   "cell_type": "code",
   "execution_count": 27,
   "id": "1f8a4310",
   "metadata": {},
   "outputs": [],
   "source": [
    "df1.loc[:,'75. What energizes you?'] = df1.loc[:,'75. What energizes you?'].fillna(0)\n",
    "df1.loc[:,'14. What is your major?'] = df1.loc[:,'14. What is your major?'].fillna(\"Unknown\")\n",
    "df2 = df1.replace(['Computational Mathematics','Computational Mathematics ', 'Computational Math', 'computational mathmatics','Mathematics ', \"Math\", 'Mathematics for Teaching Secondary School', 'Mathematics'], 'Computational Mathematics/Mathematics')\n",
    "df2 = df2.replace(['Computer Science', 'Computer Science with Business Applications'], \"ENCS/CSBA\")\n",
    "df2 = df2.replace('Electrical engineering', 'Electrical Engineering')\n",
    "df2.rename(columns = {'14. What is your major?':'Major'}, inplace = True)\n",
    "\n",
    "df2 = df2.replace([-1,-5], 0)\n",
    "df2.loc[:,'15. What is your current GPA?'] = df2.loc[:,'15. What is your current GPA?'].fillna(0)\n",
    "df2.loc[:,'20. How many units are you taking currently?'] = df2.loc[:,'20. How many units are you taking currently?'].fillna(0)\n",
    "df2.loc[:,'22. How often do you attend lectures?'] = df2.loc[:,'22. How often do you attend lectures?'].fillna(0)\n",
    "df2.loc[:,'27. How many times a week do you attend office hours on average?'] = df2.loc[:,'27. How many times a week do you attend office hours on average?'].fillna(0)\n",
    "df2.loc[:,'28. On average, how many hours do you study per week? (excluding homework)'] = df2.loc[:,'28. On average, how many hours do you study per week? (excluding homework)'].fillna(0)\n",
    "df2.loc[:,'29. On average, how many hours do you spend on homework per week?'] = df2.loc[:,'29. On average, how many hours do you spend on homework per week?'].fillna(0)\n",
    "df2.fillna(0)\n",
    "df2.rename(columns = {'15. What is your current GPA?':'GPA', '20. How many units are you taking currently?': 'Current Units Taken', '22. How often do you attend lectures?': 'Lecture Attendance', '27. How many times a week do you attend office hours on average?': 'Office Hours Attendance', '28. On average, how many hours do you study per week? (excluding homework)': 'Hours Spent on Studying (exc. HW)', '29. On average, how many hours do you spend on homework per week?': 'Hours Spent on Homework per Week', '60. On average, how many hours do you use social media per day?' : 'Social media usage per hour per day', '61. On average, how many hours do you spend watching movies per week?': 'Hours per day watching movies per week', '62. On average, how many hours do you listen to music per day?':'Hours listening to music per day','63. On average, how many hours do you play video games per week?': 'Hours playing video games per week'}, inplace = True)\n",
    "df2['Study Hours'] = df2['Hours Spent on Homework per Week'] + df2['Hours Spent on Studying (exc. HW)']"
   ]
  },
  {
   "cell_type": "code",
   "execution_count": 28,
   "id": "572a0324",
   "metadata": {
    "scrolled": true
   },
   "outputs": [
    {
     "data": {
      "text/html": [
       "<div>\n",
       "<style scoped>\n",
       "    .dataframe tbody tr th:only-of-type {\n",
       "        vertical-align: middle;\n",
       "    }\n",
       "\n",
       "    .dataframe tbody tr th {\n",
       "        vertical-align: top;\n",
       "    }\n",
       "\n",
       "    .dataframe thead th {\n",
       "        text-align: right;\n",
       "    }\n",
       "</style>\n",
       "<table border=\"1\" class=\"dataframe\">\n",
       "  <thead>\n",
       "    <tr style=\"text-align: right;\">\n",
       "      <th></th>\n",
       "      <th>7. How many siblings do you have?</th>\n",
       "      <th>8. Are you a first, middle, last, or only child?</th>\n",
       "      <th>9. How often do you talk with your siblings (through text, phone calls, or other means)?</th>\n",
       "      <th>Major</th>\n",
       "      <th>GPA</th>\n",
       "      <th>Current Units Taken</th>\n",
       "      <th>Lecture Attendance</th>\n",
       "      <th>Office Hours Attendance</th>\n",
       "      <th>Hours Spent on Studying (exc. HW)</th>\n",
       "      <th>Hours Spent on Homework per Week</th>\n",
       "      <th>...</th>\n",
       "      <th>Social media usage per hour per day</th>\n",
       "      <th>Hours per day watching movies per week</th>\n",
       "      <th>Hours listening to music per day</th>\n",
       "      <th>Hours playing video games per week</th>\n",
       "      <th>75. What energizes you?</th>\n",
       "      <th>76. How often do you initiate conversations in group settings?</th>\n",
       "      <th>77. When going out, which of the following would you most prefer?</th>\n",
       "      <th>78. How do you decline invites to go out?</th>\n",
       "      <th>79. What's the first thing you do when facing a problem with your work?</th>\n",
       "      <th>Study Hours</th>\n",
       "    </tr>\n",
       "  </thead>\n",
       "  <tbody>\n",
       "    <tr>\n",
       "      <th>0</th>\n",
       "      <td>1.0</td>\n",
       "      <td>First</td>\n",
       "      <td>Less than once a week</td>\n",
       "      <td>ENCS/CSBA</td>\n",
       "      <td>3.0 - 3.49</td>\n",
       "      <td>20.0</td>\n",
       "      <td>4.0</td>\n",
       "      <td>0.0</td>\n",
       "      <td>7.0</td>\n",
       "      <td>7.0</td>\n",
       "      <td>...</td>\n",
       "      <td>3.0</td>\n",
       "      <td>2.0</td>\n",
       "      <td>4.0</td>\n",
       "      <td>20.0</td>\n",
       "      <td>2.0</td>\n",
       "      <td>3.0</td>\n",
       "      <td>Having a plan but only following it loosely</td>\n",
       "      <td>Making up an excuse</td>\n",
       "      <td>Research potential solutions online</td>\n",
       "      <td>14.0</td>\n",
       "    </tr>\n",
       "    <tr>\n",
       "      <th>1</th>\n",
       "      <td>2.0</td>\n",
       "      <td>Middle</td>\n",
       "      <td>Almost every day</td>\n",
       "      <td>ENCS/CSBA</td>\n",
       "      <td>3.5 - 4.0</td>\n",
       "      <td>13.0</td>\n",
       "      <td>5.0</td>\n",
       "      <td>0.0</td>\n",
       "      <td>6.0</td>\n",
       "      <td>6.0</td>\n",
       "      <td>...</td>\n",
       "      <td>1.0</td>\n",
       "      <td>1.0</td>\n",
       "      <td>4.0</td>\n",
       "      <td>1.0</td>\n",
       "      <td>3.0</td>\n",
       "      <td>5.0</td>\n",
       "      <td>Having a well thought out itinerary</td>\n",
       "      <td>Politely declining</td>\n",
       "      <td>Give up and try again later</td>\n",
       "      <td>12.0</td>\n",
       "    </tr>\n",
       "    <tr>\n",
       "      <th>2</th>\n",
       "      <td>2.0</td>\n",
       "      <td>Middle</td>\n",
       "      <td>Once or twice a week</td>\n",
       "      <td>Neuroscience</td>\n",
       "      <td>3.5 - 4.0</td>\n",
       "      <td>12.0</td>\n",
       "      <td>5.0</td>\n",
       "      <td>0.0</td>\n",
       "      <td>7.0</td>\n",
       "      <td>4.0</td>\n",
       "      <td>...</td>\n",
       "      <td>2.0</td>\n",
       "      <td>1.0</td>\n",
       "      <td>2.0</td>\n",
       "      <td>5.0</td>\n",
       "      <td>2.0</td>\n",
       "      <td>3.0</td>\n",
       "      <td>Having a plan but only following it loosely</td>\n",
       "      <td>Apologize for not being able to go</td>\n",
       "      <td>Research potential solutions online</td>\n",
       "      <td>11.0</td>\n",
       "    </tr>\n",
       "    <tr>\n",
       "      <th>3</th>\n",
       "      <td>1.0</td>\n",
       "      <td>First</td>\n",
       "      <td>Almost every day</td>\n",
       "      <td>ENCS/CSBA</td>\n",
       "      <td>3.0 - 3.49</td>\n",
       "      <td>16.0</td>\n",
       "      <td>5.0</td>\n",
       "      <td>0.0</td>\n",
       "      <td>1.0</td>\n",
       "      <td>8.0</td>\n",
       "      <td>...</td>\n",
       "      <td>3.0</td>\n",
       "      <td>3.0</td>\n",
       "      <td>1.0</td>\n",
       "      <td>10.0</td>\n",
       "      <td>1.0</td>\n",
       "      <td>2.0</td>\n",
       "      <td>Having a well thought out itinerary</td>\n",
       "      <td>Making up an excuse</td>\n",
       "      <td>Research potential solutions online</td>\n",
       "      <td>9.0</td>\n",
       "    </tr>\n",
       "    <tr>\n",
       "      <th>4</th>\n",
       "      <td>1.0</td>\n",
       "      <td>First</td>\n",
       "      <td>Once or twice a week</td>\n",
       "      <td>ENCS/CSBA</td>\n",
       "      <td>3.5 - 4.0</td>\n",
       "      <td>16.0</td>\n",
       "      <td>5.0</td>\n",
       "      <td>0.0</td>\n",
       "      <td>4.0</td>\n",
       "      <td>10.0</td>\n",
       "      <td>...</td>\n",
       "      <td>1.0</td>\n",
       "      <td>1.0</td>\n",
       "      <td>2.0</td>\n",
       "      <td>10.0</td>\n",
       "      <td>4.0</td>\n",
       "      <td>5.0</td>\n",
       "      <td>Having a plan but only following it loosely</td>\n",
       "      <td>Politely declining</td>\n",
       "      <td>Ask a TA, tutor, or professor for help</td>\n",
       "      <td>14.0</td>\n",
       "    </tr>\n",
       "    <tr>\n",
       "      <th>...</th>\n",
       "      <td>...</td>\n",
       "      <td>...</td>\n",
       "      <td>...</td>\n",
       "      <td>...</td>\n",
       "      <td>...</td>\n",
       "      <td>...</td>\n",
       "      <td>...</td>\n",
       "      <td>...</td>\n",
       "      <td>...</td>\n",
       "      <td>...</td>\n",
       "      <td>...</td>\n",
       "      <td>...</td>\n",
       "      <td>...</td>\n",
       "      <td>...</td>\n",
       "      <td>...</td>\n",
       "      <td>...</td>\n",
       "      <td>...</td>\n",
       "      <td>...</td>\n",
       "      <td>...</td>\n",
       "      <td>...</td>\n",
       "      <td>...</td>\n",
       "    </tr>\n",
       "    <tr>\n",
       "      <th>219</th>\n",
       "      <td>1.0</td>\n",
       "      <td>Last</td>\n",
       "      <td>Less than once a week</td>\n",
       "      <td>ENCS/CSBA</td>\n",
       "      <td>3.0 - 3.49</td>\n",
       "      <td>12.0</td>\n",
       "      <td>4.0</td>\n",
       "      <td>0.0</td>\n",
       "      <td>4.0</td>\n",
       "      <td>8.0</td>\n",
       "      <td>...</td>\n",
       "      <td>4.0</td>\n",
       "      <td>2.0</td>\n",
       "      <td>4.0</td>\n",
       "      <td>0.0</td>\n",
       "      <td>3.0</td>\n",
       "      <td>3.0</td>\n",
       "      <td>Having a plan but only following it loosely</td>\n",
       "      <td>Saying you'll get back to them</td>\n",
       "      <td>Research potential solutions online</td>\n",
       "      <td>12.0</td>\n",
       "    </tr>\n",
       "    <tr>\n",
       "      <th>220</th>\n",
       "      <td>2.0</td>\n",
       "      <td>Last</td>\n",
       "      <td>Almost every day</td>\n",
       "      <td>ENCS/CSBA</td>\n",
       "      <td>3.0 - 3.49</td>\n",
       "      <td>13.0</td>\n",
       "      <td>5.0</td>\n",
       "      <td>1.0</td>\n",
       "      <td>12.0</td>\n",
       "      <td>15.0</td>\n",
       "      <td>...</td>\n",
       "      <td>1.0</td>\n",
       "      <td>3.0</td>\n",
       "      <td>2.0</td>\n",
       "      <td>6.0</td>\n",
       "      <td>3.0</td>\n",
       "      <td>4.0</td>\n",
       "      <td>Doing whatever seems right or fun at the moment</td>\n",
       "      <td>Politely declining</td>\n",
       "      <td>Give up and try again later</td>\n",
       "      <td>27.0</td>\n",
       "    </tr>\n",
       "    <tr>\n",
       "      <th>221</th>\n",
       "      <td>1.0</td>\n",
       "      <td>Last</td>\n",
       "      <td>Three or four times a week</td>\n",
       "      <td>ENCS/CSBA</td>\n",
       "      <td>2.5 - 2.99</td>\n",
       "      <td>13.0</td>\n",
       "      <td>3.0</td>\n",
       "      <td>0.0</td>\n",
       "      <td>10.0</td>\n",
       "      <td>10.0</td>\n",
       "      <td>...</td>\n",
       "      <td>5.0</td>\n",
       "      <td>2.0</td>\n",
       "      <td>20.0</td>\n",
       "      <td>5.0</td>\n",
       "      <td>4.0</td>\n",
       "      <td>4.0</td>\n",
       "      <td>Having a plan but only following it loosely</td>\n",
       "      <td>Politely declining</td>\n",
       "      <td>Ask a TA, tutor, or professor for help</td>\n",
       "      <td>20.0</td>\n",
       "    </tr>\n",
       "    <tr>\n",
       "      <th>222</th>\n",
       "      <td>5.0</td>\n",
       "      <td>Last</td>\n",
       "      <td>Almost every day</td>\n",
       "      <td>ENCS/CSBA</td>\n",
       "      <td>3.5 - 4.0</td>\n",
       "      <td>17.0</td>\n",
       "      <td>5.0</td>\n",
       "      <td>0.0</td>\n",
       "      <td>10.0</td>\n",
       "      <td>10.0</td>\n",
       "      <td>...</td>\n",
       "      <td>1.0</td>\n",
       "      <td>2.0</td>\n",
       "      <td>4.0</td>\n",
       "      <td>1.0</td>\n",
       "      <td>1.0</td>\n",
       "      <td>3.0</td>\n",
       "      <td>Having a plan but only following it loosely</td>\n",
       "      <td>Apologize for not being able to go</td>\n",
       "      <td>Ask a TA, tutor, or professor for help</td>\n",
       "      <td>20.0</td>\n",
       "    </tr>\n",
       "    <tr>\n",
       "      <th>223</th>\n",
       "      <td>0.0</td>\n",
       "      <td>Only child</td>\n",
       "      <td>I don't have siblings</td>\n",
       "      <td>ENCS/CSBA</td>\n",
       "      <td>3.0 - 3.49</td>\n",
       "      <td>12.0</td>\n",
       "      <td>5.0</td>\n",
       "      <td>1.0</td>\n",
       "      <td>7.0</td>\n",
       "      <td>9.0</td>\n",
       "      <td>...</td>\n",
       "      <td>4.0</td>\n",
       "      <td>12.0</td>\n",
       "      <td>13.0</td>\n",
       "      <td>14.0</td>\n",
       "      <td>5.0</td>\n",
       "      <td>4.0</td>\n",
       "      <td>Having a plan but only following it loosely</td>\n",
       "      <td>Apologize for not being able to go</td>\n",
       "      <td>Ask a TA, tutor, or professor for help</td>\n",
       "      <td>16.0</td>\n",
       "    </tr>\n",
       "  </tbody>\n",
       "</table>\n",
       "<p>224 rows × 25 columns</p>\n",
       "</div>"
      ],
      "text/plain": [
       "     7. How many siblings do you have?  \\\n",
       "0                                  1.0   \n",
       "1                                  2.0   \n",
       "2                                  2.0   \n",
       "3                                  1.0   \n",
       "4                                  1.0   \n",
       "..                                 ...   \n",
       "219                                1.0   \n",
       "220                                2.0   \n",
       "221                                1.0   \n",
       "222                                5.0   \n",
       "223                                0.0   \n",
       "\n",
       "    8. Are you a first, middle, last, or only child?  \\\n",
       "0                                              First   \n",
       "1                                             Middle   \n",
       "2                                             Middle   \n",
       "3                                              First   \n",
       "4                                              First   \n",
       "..                                               ...   \n",
       "219                                             Last   \n",
       "220                                             Last   \n",
       "221                                             Last   \n",
       "222                                             Last   \n",
       "223                                       Only child   \n",
       "\n",
       "    9. How often do you talk with your siblings (through text, phone calls, or other means)?   \\\n",
       "0                                Less than once a week                                          \n",
       "1                                     Almost every day                                          \n",
       "2                                 Once or twice a week                                          \n",
       "3                                     Almost every day                                          \n",
       "4                                 Once or twice a week                                          \n",
       "..                                                 ...                                          \n",
       "219                              Less than once a week                                          \n",
       "220                                   Almost every day                                          \n",
       "221                         Three or four times a week                                          \n",
       "222                                   Almost every day                                          \n",
       "223                              I don't have siblings                                          \n",
       "\n",
       "            Major         GPA  Current Units Taken  Lecture Attendance  \\\n",
       "0       ENCS/CSBA  3.0 - 3.49                 20.0                 4.0   \n",
       "1       ENCS/CSBA   3.5 - 4.0                 13.0                 5.0   \n",
       "2    Neuroscience   3.5 - 4.0                 12.0                 5.0   \n",
       "3       ENCS/CSBA  3.0 - 3.49                 16.0                 5.0   \n",
       "4       ENCS/CSBA   3.5 - 4.0                 16.0                 5.0   \n",
       "..            ...         ...                  ...                 ...   \n",
       "219     ENCS/CSBA  3.0 - 3.49                 12.0                 4.0   \n",
       "220     ENCS/CSBA  3.0 - 3.49                 13.0                 5.0   \n",
       "221     ENCS/CSBA  2.5 - 2.99                 13.0                 3.0   \n",
       "222     ENCS/CSBA   3.5 - 4.0                 17.0                 5.0   \n",
       "223     ENCS/CSBA  3.0 - 3.49                 12.0                 5.0   \n",
       "\n",
       "     Office Hours Attendance  Hours Spent on Studying (exc. HW)  \\\n",
       "0                        0.0                                7.0   \n",
       "1                        0.0                                6.0   \n",
       "2                        0.0                                7.0   \n",
       "3                        0.0                                1.0   \n",
       "4                        0.0                                4.0   \n",
       "..                       ...                                ...   \n",
       "219                      0.0                                4.0   \n",
       "220                      1.0                               12.0   \n",
       "221                      0.0                               10.0   \n",
       "222                      0.0                               10.0   \n",
       "223                      1.0                                7.0   \n",
       "\n",
       "     Hours Spent on Homework per Week  ...  \\\n",
       "0                                 7.0  ...   \n",
       "1                                 6.0  ...   \n",
       "2                                 4.0  ...   \n",
       "3                                 8.0  ...   \n",
       "4                                10.0  ...   \n",
       "..                                ...  ...   \n",
       "219                               8.0  ...   \n",
       "220                              15.0  ...   \n",
       "221                              10.0  ...   \n",
       "222                              10.0  ...   \n",
       "223                               9.0  ...   \n",
       "\n",
       "    Social media usage per hour per day  \\\n",
       "0                                   3.0   \n",
       "1                                   1.0   \n",
       "2                                   2.0   \n",
       "3                                   3.0   \n",
       "4                                   1.0   \n",
       "..                                  ...   \n",
       "219                                 4.0   \n",
       "220                                 1.0   \n",
       "221                                 5.0   \n",
       "222                                 1.0   \n",
       "223                                 4.0   \n",
       "\n",
       "     Hours per day watching movies per week  Hours listening to music per day  \\\n",
       "0                                       2.0                               4.0   \n",
       "1                                       1.0                               4.0   \n",
       "2                                       1.0                               2.0   \n",
       "3                                       3.0                               1.0   \n",
       "4                                       1.0                               2.0   \n",
       "..                                      ...                               ...   \n",
       "219                                     2.0                               4.0   \n",
       "220                                     3.0                               2.0   \n",
       "221                                     2.0                              20.0   \n",
       "222                                     2.0                               4.0   \n",
       "223                                    12.0                              13.0   \n",
       "\n",
       "     Hours playing video games per week  75. What energizes you?  \\\n",
       "0                                  20.0                      2.0   \n",
       "1                                   1.0                      3.0   \n",
       "2                                   5.0                      2.0   \n",
       "3                                  10.0                      1.0   \n",
       "4                                  10.0                      4.0   \n",
       "..                                  ...                      ...   \n",
       "219                                 0.0                      3.0   \n",
       "220                                 6.0                      3.0   \n",
       "221                                 5.0                      4.0   \n",
       "222                                 1.0                      1.0   \n",
       "223                                14.0                      5.0   \n",
       "\n",
       "     76. How often do you initiate conversations in group settings?  \\\n",
       "0                                                  3.0                \n",
       "1                                                  5.0                \n",
       "2                                                  3.0                \n",
       "3                                                  2.0                \n",
       "4                                                  5.0                \n",
       "..                                                 ...                \n",
       "219                                                3.0                \n",
       "220                                                4.0                \n",
       "221                                                4.0                \n",
       "222                                                3.0                \n",
       "223                                                4.0                \n",
       "\n",
       "     77. When going out, which of the following would you most prefer?  \\\n",
       "0          Having a plan but only following it loosely                   \n",
       "1                  Having a well thought out itinerary                   \n",
       "2          Having a plan but only following it loosely                   \n",
       "3                  Having a well thought out itinerary                   \n",
       "4          Having a plan but only following it loosely                   \n",
       "..                                                 ...                   \n",
       "219        Having a plan but only following it loosely                   \n",
       "220    Doing whatever seems right or fun at the moment                   \n",
       "221        Having a plan but only following it loosely                   \n",
       "222        Having a plan but only following it loosely                   \n",
       "223        Having a plan but only following it loosely                   \n",
       "\n",
       "     78. How do you decline invites to go out?  \\\n",
       "0                          Making up an excuse   \n",
       "1                           Politely declining   \n",
       "2           Apologize for not being able to go   \n",
       "3                          Making up an excuse   \n",
       "4                           Politely declining   \n",
       "..                                         ...   \n",
       "219             Saying you'll get back to them   \n",
       "220                         Politely declining   \n",
       "221                         Politely declining   \n",
       "222         Apologize for not being able to go   \n",
       "223         Apologize for not being able to go   \n",
       "\n",
       "     79. What's the first thing you do when facing a problem with your work?  \\\n",
       "0                  Research potential solutions online                         \n",
       "1                          Give up and try again later                         \n",
       "2                  Research potential solutions online                         \n",
       "3                  Research potential solutions online                         \n",
       "4               Ask a TA, tutor, or professor for help                         \n",
       "..                                                 ...                         \n",
       "219                Research potential solutions online                         \n",
       "220                        Give up and try again later                         \n",
       "221             Ask a TA, tutor, or professor for help                         \n",
       "222             Ask a TA, tutor, or professor for help                         \n",
       "223             Ask a TA, tutor, or professor for help                         \n",
       "\n",
       "     Study Hours  \n",
       "0           14.0  \n",
       "1           12.0  \n",
       "2           11.0  \n",
       "3            9.0  \n",
       "4           14.0  \n",
       "..           ...  \n",
       "219         12.0  \n",
       "220         27.0  \n",
       "221         20.0  \n",
       "222         20.0  \n",
       "223         16.0  \n",
       "\n",
       "[224 rows x 25 columns]"
      ]
     },
     "execution_count": 28,
     "metadata": {},
     "output_type": "execute_result"
    }
   ],
   "source": [
    "df2"
   ]
  },
  {
   "cell_type": "markdown",
   "id": "08a1dfc8",
   "metadata": {},
   "source": [
    "# 2. What would you like to know?"
   ]
  },
  {
   "cell_type": "markdown",
   "id": "9d54f854",
   "metadata": {},
   "source": [
    "Based on the data collected from CS105 and CS111 classes, are the stereotypes of introverts and extroverts true?"
   ]
  },
  {
   "cell_type": "markdown",
   "id": "b463de1f",
   "metadata": {},
   "source": [
    "# 3. Explore the data."
   ]
  },
  {
   "cell_type": "markdown",
   "id": "ae9fc2b0",
   "metadata": {},
   "source": [
    "### Bar Graph"
   ]
  },
  {
   "cell_type": "markdown",
   "id": "a31d03bc",
   "metadata": {},
   "source": [
    "In this section, a bar graph is used to visualize how many students see themselves as extrovert, introvert or ambivert."
   ]
  },
  {
   "cell_type": "code",
   "execution_count": 29,
   "id": "5afb59e1",
   "metadata": {},
   "outputs": [],
   "source": [
    "#Created a new column called \"Personality\" based on Q75\n",
    "df2.loc[(df2[\"75. What energizes you?\"] >= 4, \"Personality\")] = 'Extrovert'\n",
    "df2.loc[(df2[\"75. What energizes you?\"] == 3, \"Personality\")] = 'Ambivert'\n",
    "df2.loc[(df2[\"75. What energizes you?\"] <= 2, \"Personality\")] = 'Introvert'\n",
    "df2.loc[(df2[\"75. What energizes you?\"] == 0, \"Personality\")] = 'Unknown'"
   ]
  },
  {
   "cell_type": "code",
   "execution_count": 30,
   "id": "420cdea7",
   "metadata": {},
   "outputs": [
    {
     "data": {
      "image/png": "[encoded data removed]",
      "text/plain": [
       "<Figure size 640x480 with 1 Axes>"
      ]
     },
     "metadata": {},
     "output_type": "display_data"
    }
   ],
   "source": [
    "#Bar Graph to Show How the Distribution of Personality from the entire data\n",
    "personalityCount = df2.groupby(\"Personality\")[\"Major\"].count()\n",
    "plt.bar(personalityCount.index,personalityCount)\n",
    "plt.xticks(rotation=90)\n",
    "plt.show()"
   ]
  },
  {
   "cell_type": "markdown",
   "id": "fc61d715",
   "metadata": {},
   "source": [
    "### Joint Distribution"
   ]
  },
  {
   "cell_type": "markdown",
   "id": "056ecc7e",
   "metadata": {},
   "source": [
    "In this section, a joint distribution is used to see whether a major has an affect on the person's personality. "
   ]
  },
  {
   "cell_type": "code",
   "execution_count": 31,
   "id": "2fb4b379",
   "metadata": {},
   "outputs": [
    {
     "ename": "SyntaxError",
     "evalue": "invalid syntax (1585290409.py, line 6)",
     "output_type": "error",
     "traceback": [
      "\u001b[0;36m  File \u001b[0;32m\"/var/folders/bm/vpy7vc4j6csfqg3srk75sxbh0000gn/T/ipykernel_23164/1585290409.py\"\u001b[0;36m, line \u001b[0;32m6\u001b[0m\n\u001b[0;31m    fill_value=0\u001b[0m\n\u001b[0m    ^\u001b[0m\n\u001b[0;31mSyntaxError\u001b[0m\u001b[0;31m:\u001b[0m invalid syntax\n"
     ]
    }
   ],
   "source": [
    "#Distribution of Personality based on Major\n",
    "countByMajor = df2.pivot_table(\n",
    "    index=\"Major\", columns=\"Personality\",\n",
    "    values=\"Current Units Taken\", \n",
    "    aggfunc=\"count\"\n",
    "    fill_value=0\n",
    ")\n",
    "countByMajor"
   ]
  },
  {
   "cell_type": "code",
   "execution_count": null,
   "id": "7a184383",
   "metadata": {},
   "outputs": [],
   "source": [
    "#Joint Probability Distribution\n",
    "joint_prob = pd.crosstab(df2[\"Major\"], df2[\"Personality\"], normalize=True)\n",
    "joint_prob"
   ]
  },
  {
   "cell_type": "code",
   "execution_count": null,
   "id": "fd9129fe",
   "metadata": {},
   "outputs": [],
   "source": [
    "sns.heatmap(joint_prob)"
   ]
  },
  {
   "cell_type": "markdown",
   "id": "0fab1657",
   "metadata": {},
   "source": [
    "To visualize the data more clearly, a heatmap is used and it could be seen that most of these subjects are in ENCS/CSBA and mostly see themselves as ambivert. However, if we were to ignore the ambivert column ,it could be seen that more people are introverts rather than extroverts. "
   ]
  },
  {
   "cell_type": "markdown",
   "id": "e8e3d7a0",
   "metadata": {},
   "source": [
    "# Radar Chart"
   ]
  },
  {
   "cell_type": "code",
   "execution_count": null,
   "id": "2bc2276b",
   "metadata": {},
   "outputs": [],
   "source": [
    "#Radar Chart showing Academic Performance based on Personality\n",
    "# 15. What is your current GPA?\n",
    "# 20. How many units are you taking currently?\n",
    "# 22. How often do you attend lectures?\n",
    "# 27. How many times a week do you attend office hours on average?\n",
    "# 28. On average, how many hours do you study per week? (excluding homework)\n",
    "# 29. On average, how many hours do you spend on homework per week?\n",
    "\n",
    "df3 = pd.DataFrame({'Personality' : df2['Personality'], 'GPA': df2['GPA'], 'Current Units Taken': df2['Current Units Taken'], 'Total Study Hours': df2['Study Hours'], 'Lecture Attendance': df2['Lecture Attendance'], 'Office Hours Attendance': df2['Office Hours Attendance']})\n",
    "# df3\n"
   ]
  },
  {
   "cell_type": "code",
   "execution_count": null,
   "id": "04e1929b",
   "metadata": {},
   "outputs": [],
   "source": [
    "df3 = df3.replace('0 - 1.49', 0.75)\n",
    "df3 = df3.replace('1.5 - 1.99', 1.75)\n",
    "df3 = df3.replace('2.0 - 2.49', 2.25)\n",
    "df3 = df3.replace('2.5 - 2.99', 2.75)\n",
    "df3 = df3.replace('3.0 - 3.49', 3.25)\n",
    "df3 = df3.replace('3.5 - 4.0', 3.75)\n",
    "df3_mean = df3.groupby('Personality').mean()\n",
    "df3_mean\n",
    "df3_new = pd.DataFrame({'Personality' : df3_mean.index, 'GPA': df3_mean['GPA'], 'Current Units Taken': df3_mean['Current Units Taken'], 'Total Study Hours': df3_mean['Total Study Hours'], 'Lecture Attendance': df3_mean['Lecture Attendance'], 'Office Hours Attendance': df3_mean['Office Hours Attendance']}).reset_index(drop=True)\n",
    "df3_new\n"
   ]
  },
  {
   "cell_type": "code",
   "execution_count": null,
   "id": "544821ec",
   "metadata": {},
   "outputs": [],
   "source": [
    "categories=np.array(['GPA', 'Current Units Taken', 'Total Study Hours', 'Lecture Attendance', 'Office Hours Attendance'])\n",
    "categories = [*categories, categories[0]]\n",
    "\n",
    "a_stats=df3_new.loc[0,categories].values\n",
    "e_stats=df3_new.loc[1,categories].values\n",
    "i_stats=df3_new.loc[2,categories].values\n",
    "\n",
    "label_loc = np.linspace(start=0, stop=2 * np.pi, num=len(a_stats))\n",
    "\n",
    "plt.figure(figsize=(6, 6))\n",
    "plt.subplot(polar=True)\n",
    "plt.plot(label_loc, a_stats, label='Ambiverts')\n",
    "plt.plot(label_loc, e_stats, label='Extroverts')\n",
    "plt.plot(label_loc, i_stats, label='Introverts')\n",
    "plt.title('Personality Comparision', size=20, y=1.05)\n",
    "lines, labels = plt.thetagrids(np.degrees(label_loc), labels=categories)\n",
    "plt.legend()\n",
    "plt.show()"
   ]
  },
  {
   "cell_type": "code",
   "execution_count": null,
   "id": "2c832c66-6863-4030-94fc-611695c8c45e",
   "metadata": {},
   "outputs": [],
   "source": [
    "#Mihika\n",
    "#correlation between whether or not a student is an only child and their personality trait.\n",
    "#q7,8,9\n",
    "df4 = df2.groupby(['Personality','7. How many siblings do you have?']).size()\n",
    "df4 = df4.unstack()\n",
    "df4.plot(kind=\"line\")"
   ]
  },
  {
   "cell_type": "markdown",
   "id": "aa45654e-78a9-484f-9775-09644fec4780",
   "metadata": {},
   "source": [
    "For the first visualization, we group the data with the response of the question: How many siblings do you have? And their personality type. In this scenario, we are looking at the size of the dataset (count of each personality type with each response of to the question). Then we use pandas inbuilt function plot to plot the data in the notebook and show the visualization. Through this graph, we can observe the blue line (which shows person has 0 siblings) doesn’t really have a correlation on which personality type you are. It’s symmetrical and we see that being an only child has little to no effect on your personality type."
   ]
  },
  {
   "cell_type": "code",
   "execution_count": null,
   "id": "d09482a9-2742-4ef0-b6be-effac8748496",
   "metadata": {},
   "outputs": [],
   "source": [
    "df4 = df2.groupby(['Personality','8. Are you a first, middle, last, or only child?']).size()\n",
    "df4 = df4.unstack()\n",
    "df4.plot(kind=\"bar\")"
   ]
  },
  {
   "cell_type": "markdown",
   "id": "1a22b5df-6841-4f57-9b67-aee187e01acf",
   "metadata": {},
   "source": [
    "For the second visualization, we group the data with the response of the question: Are you a first, middle or only child? And their personality type. In this scenario, we are looking at the size of the dataset (count of each personality type with each response of to the question). Then we use pandas inbuilt function plot to plot the data in the notebook and show the visualization. Through this graph, we can observe the red bar (which shows person is only child) doesn’t really have a correlation on which personality type you are again. We can see a similar bar graph trend for all variables: first, middle and only child."
   ]
  },
  {
   "cell_type": "code",
   "execution_count": null,
   "id": "2f1665b7-544e-4989-806e-0e14b84f3c7f",
   "metadata": {},
   "outputs": [],
   "source": [
    "df4 = df2.groupby(['Personality', '9. How often do you talk with your siblings (through text, phone calls, or other means)? ']).size()\n",
    "df4 = df4.unstack()\n",
    "df4.plot(figsize=(15,6),kind=\"area\")"
   ]
  },
  {
   "cell_type": "markdown",
   "id": "7623ecb8-e6f2-4c45-839e-46ec2252cb4c",
   "metadata": {},
   "source": [
    "For the third visualization, we group the data with the response of the question: How often do you talk to your siblings? And their personality type. In this scenario, we are looking at the size of the dataset (count of each personality type with each response of to the question). Then we use pandas inbuilt function plot to plot the data in the notebook and show the visualization. Through this graph, we can observe the orange area (which shows person has 0 siblings) doesn’t really have a correlation on which personality type you are again. The trend of the area is somewhat similar to those people who have siblings as well. "
   ]
  },
  {
   "cell_type": "code",
   "execution_count": null,
   "id": "4aec4790",
   "metadata": {
    "scrolled": true
   },
   "outputs": [],
   "source": [
    "#Hypothesis testing for question 4: There is not a correlation between social activity and personality trait.\n",
    "#Questions 60, 61, 62, 63\n",
    "df5 = pd.DataFrame({'Personality' : df2['Personality'], 'Average social media usage per hour per day': df2['Social media usage per hour per day'], 'Average hours per day watching movies per week': df2['Hours per day watching movies per week'], 'Average hours listening to music per day': df2['Hours listening to music per day'], 'Average hours playing video games per week': df2['Hours playing video games per week']})\n",
    "df5 = df5.drop(df5.index[155])\n",
    "df5"
   ]
  },
  {
   "cell_type": "code",
   "execution_count": null,
   "id": "7f3deb19",
   "metadata": {},
   "outputs": [],
   "source": [
    "df5_mean = df5.groupby('Personality').mean()\n",
    "df5_mean"
   ]
  },
  {
   "cell_type": "code",
   "execution_count": null,
   "id": "984ea7ec",
   "metadata": {},
   "outputs": [],
   "source": [
    "df5_mean.plot(kind = \"bar\")"
   ]
  },
  {
   "cell_type": "code",
   "execution_count": null,
   "id": "ebc6c6c9",
   "metadata": {},
   "outputs": [],
   "source": [
    "dfcst1 = pd.DataFrame({'Personality' : df2['Personality'], 'Average social media usage per hour per day': df2['Social media usage per hour per day'], 'Average hours playing video games per week': df2['Hours playing video games per week']})\n",
    "dfcst1 = dfcst1.drop(dfcst1.index[155])\n",
    "display(dfcst1.head())\n",
    "\n",
    "dfcst2 = pd.DataFrame({'Personality' : df2['Personality'], 'Average hours per day watching movies per week': df2['Hours per day watching movies per week'], 'Average hours listening to music per day': df2['Hours listening to music per day']})\n",
    "dfcst2 = dfcst2.drop(dfcst2.index[155])\n",
    "display(dfcst2.head())"
   ]
  },
  {
   "cell_type": "code",
   "execution_count": null,
   "id": "f21de474",
   "metadata": {},
   "outputs": [],
   "source": [
    "dfcst1_mean = dfcst1.groupby('Personality').mean()\n",
    "display(dfcst1_mean)\n",
    "\n",
    "dfcst2_mean = dfcst2.groupby('Personality').mean()\n",
    "display(dfcst2_mean)"
   ]
  },
  {
   "cell_type": "code",
   "execution_count": null,
   "id": "bcdceabf",
   "metadata": {},
   "outputs": [],
   "source": [
    "cst1 = dfcst1_mean.mean(axis=1)\n",
    "cst1 = cst1.drop([\"Ambivert\", \"Unknown\"])\n",
    "display(cst1)\n",
    "\n",
    "cst2 = dfcst2_mean.mean(axis=1)\n",
    "cst2 = cst2.drop([\"Ambivert\", \"Unknown\"])\n",
    "display(cst2)"
   ]
  },
  {
   "cell_type": "code",
   "execution_count": null,
   "id": "13b4ca7f",
   "metadata": {},
   "outputs": [],
   "source": [
    "#chi-squared test\n",
    "#the cell values are less than 5, so we multiple them by 3 to scale them to use the values\n",
    "\n",
    "#exin = pd.DataFrame({'Social media interaction': [4.724138,5.541096],'Alone interaction': [4.210899,3.313814]},index=[\"Extrovert\",\"Introvert\"])\n",
    "#exin = pd.DataFrame({'Social media interaction': [14.172414,16.623288],'Alone interaction': [12.632697,9.941442]},index=[\"Extrovert\",\"Introvert\"])\n",
    "exin = pd.DataFrame({'Social media interaction': [14.17,16.62],'Alone interaction': [12.63,9.94]},index=[\"Extrovert\",\"Introvert\"])\n",
    "exin\n",
    "#cst = df5_mean.mean(axis=1)\n",
    "#cst"
   ]
  },
  {
   "cell_type": "code",
   "execution_count": null,
   "id": "01f1d8f5",
   "metadata": {},
   "outputs": [],
   "source": [
    "# calculate the chi-square value of the dataset\n",
    "from scipy.stats import chi2_contingency\n",
    "# https://docs.scipy.org/doc/scipy/reference/generated/scipy.stats.chi2_contingency.html\n",
    "chi, p, dfree, expected = chi2_contingency(exin)\n",
    "print(\"calculated chi square value: \" ,chi)\n",
    "print(\"calculated p value: \" ,p)\n",
    "#print(\"degree of freedom: \", dfree)"
   ]
  },
  {
   "cell_type": "code",
   "execution_count": null,
   "id": "4525254e",
   "metadata": {},
   "outputs": [],
   "source": [
    "# get the threshold to reject the hypothesis by certain significance value and the degree of the freedom.\n",
    "from scipy.stats import chi2\n",
    "print(\"for 1 degree of freedom, the chi-square value needed to reject the hypothesis at the 0.001 significance level:\")\n",
    "chi2.ppf(0.95, 1)"
   ]
  },
  {
   "cell_type": "markdown",
   "id": "c1e4d28c",
   "metadata": {},
   "source": [
    "# 4. Can you state any hypotheses or make predictions? Which tests can you apply to verify your hypothesis? "
   ]
  },
  {
   "cell_type": "markdown",
   "id": "ec31f60c",
   "metadata": {},
   "source": [
    "# 5. Test your hypotheses."
   ]
  },
  {
   "cell_type": "markdown",
   "id": "86260b86",
   "metadata": {},
   "source": [
    "#### 1. There is a correlation between a student’s academic performance and their personality trait. \n",
    "Since introverts are believed to be more reserved and less outgoing, it is assumed that they would spend more time alone thus more time to study. Because of this, it is believed that their academic performance would also be higher. "
   ]
  },
  {
   "cell_type": "markdown",
   "id": "2b2cd5fc",
   "metadata": {},
   "source": [
    "2. There is a correlation between whether or not a student is an only child and their personality trait."
   ]
  },
  {
   "cell_type": "markdown",
   "id": "e9666047",
   "metadata": {},
   "source": [
    "3. There is a correlation between how many clubs a student participates in and their personality trait."
   ]
  },
  {
   "cell_type": "markdown",
   "id": "0357d101",
   "metadata": {},
   "source": [
    "4. There is a correlation between social activity and their personality trait. "
   ]
  },
  {
   "cell_type": "code",
   "execution_count": null,
   "id": "d122495a",
   "metadata": {},
   "outputs": [],
   "source": []
  }
 ],
 "metadata": {
  "kernelspec": {
   "display_name": "Python 3 (ipykernel)",
   "language": "python",
   "name": "python3"
  },
  "language_info": {
   "codemirror_mode": {
    "name": "ipython",
    "version": 3
   },
   "file_extension": ".py",
   "mimetype": "text/x-python",
   "name": "python",
   "nbconvert_exporter": "python",
   "pygments_lexer": "ipython3",
   "version": "3.9.13"
  }
 },
 "nbformat": 4,
 "nbformat_minor": 5
}
