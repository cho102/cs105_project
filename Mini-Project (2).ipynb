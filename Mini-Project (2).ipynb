{
 "cells": [
  {
   "cell_type": "code",
   "execution_count": 1,
   "id": "1bc12f72",
   "metadata": {
    "scrolled": true,
    "tags": []
   },
   "outputs": [],
   "source": [
    "%matplotlib inline\n",
    "import pandas as pd\n",
    "import numpy as np \n",
    "import matplotlib.pyplot as plt\n",
    "from math import pi\n",
    "import seaborn as sns"
   ]
  },
  {
   "cell_type": "markdown",
   "id": "1fec17f0",
   "metadata": {},
   "source": [
    "# Question 1. What data do you have?"
   ]
  },
  {
   "cell_type": "markdown",
   "id": "0a7dfd4f",
   "metadata": {},
   "source": [
    "### Explain Here:"
   ]
  },
  {
   "cell_type": "markdown",
   "id": "d48ccb6b-1caf-4d78-9869-bdeff915d41d",
   "metadata": {},
   "source": [
    "TODO"
   ]
  },
  {
   "cell_type": "code",
   "execution_count": 2,
   "id": "78edf4f2",
   "metadata": {},
   "outputs": [],
   "source": [
    "raw_df = pd.read_csv(\"survey_responses.csv\")\n",
    "df1 = raw_df.drop(raw_df.columns[[0, 1, 2, 3, 4, 5, 6, 10, 11, 12, 13, 16, 17, 18, 19, 21, 23, 24, 25, 26, 30, 31, 32, 33, 34, 35, 40, 41, 42, 43, 44, 45, 46, 47, 48, 49, 50, 51, 52, 53, 54, 55, 56, 57, 58, 64, 65, 66, 67, 68, 69, 70, 71, 72, 73, 74, 80, 81, 82, 83]],axis = 1)"
   ]
  },
  {
   "cell_type": "markdown",
   "id": "ba7bc036",
   "metadata": {},
   "source": [
    "### Clean Up Dataframe"
   ]
  },
  {
   "cell_type": "code",
   "execution_count": 3,
   "id": "1f8a4310",
   "metadata": {},
   "outputs": [],
   "source": [
    "df1.loc[:,'75. What energizes you?'] = df1.loc[:,'75. What energizes you?'].fillna(0)\n",
    "df1.loc[:,'14. What is your major?'] = df1.loc[:,'14. What is your major?'].fillna(\"Unknown\")\n",
    "df2 = df1.replace(['Computational Mathematics','Computational Mathematics ', 'Computational Math', 'computational mathmatics','Mathematics ', \"Math\", 'Mathematics for Teaching Secondary School', 'Mathematics'], 'Computational Mathematics/Mathematics')\n",
    "df2 = df2.replace(['Computer Science', 'Computer Science with Business Applications'], \"ENCS/CSBA\")\n",
    "df2 = df2.replace('Electrical engineering', 'Electrical Engineering')\n",
    "df2.rename(columns = {'14. What is your major?':'Major'}, inplace = True)\n",
    "\n",
    "df2 = df2.replace([-1,-5], 0)\n",
    "df2.loc[:,'15. What is your current GPA?'] = df2.loc[:,'15. What is your current GPA?'].fillna(0)\n",
    "df2.loc[:,'20. How many units are you taking currently?'] = df2.loc[:,'20. How many units are you taking currently?'].fillna(0)\n",
    "df2.loc[:,'22. How often do you attend lectures?'] = df2.loc[:,'22. How often do you attend lectures?'].fillna(0)\n",
    "df2.loc[:,'27. How many times a week do you attend office hours on average?'] = df2.loc[:,'27. How many times a week do you attend office hours on average?'].fillna(0)\n",
    "df2.loc[:,'28. On average, how many hours do you study per week? (excluding homework)'] = df2.loc[:,'28. On average, how many hours do you study per week? (excluding homework)'].fillna(0)\n",
    "df2.loc[:,'29. On average, how many hours do you spend on homework per week?'] = df2.loc[:,'29. On average, how many hours do you spend on homework per week?'].fillna(0)\n",
    "df2.fillna(0)\n",
    "df2.rename(columns = {'15. What is your current GPA?':'GPA', '20. How many units are you taking currently?': 'Current Units Taken', '22. How often do you attend lectures?': 'Lecture Attendance', '27. How many times a week do you attend office hours on average?': 'Office Hours Attendance', '28. On average, how many hours do you study per week? (excluding homework)': 'Hours Spent on Studying (exc. HW)', '29. On average, how many hours do you spend on homework per week?': 'Hours Spent on Homework per Week'}, inplace = True)\n",
    "df2['Study Hours'] = df2['Hours Spent on Homework per Week'] + df2['Hours Spent on Studying (exc. HW)']"
   ]
  },
  {
   "cell_type": "code",
   "execution_count": 4,
   "id": "572a0324",
   "metadata": {
    "scrolled": true
   },
   "outputs": [
    {
     "data": {
      "text/html": [
       "<div>\n",
       "<style scoped>\n",
       "    .dataframe tbody tr th:only-of-type {\n",
       "        vertical-align: middle;\n",
       "    }\n",
       "\n",
       "    .dataframe tbody tr th {\n",
       "        vertical-align: top;\n",
       "    }\n",
       "\n",
       "    .dataframe thead th {\n",
       "        text-align: right;\n",
       "    }\n",
       "</style>\n",
       "<table border=\"1\" class=\"dataframe\">\n",
       "  <thead>\n",
       "    <tr style=\"text-align: right;\">\n",
       "      <th></th>\n",
       "      <th>7. How many siblings do you have?</th>\n",
       "      <th>8. Are you a first, middle, last, or only child?</th>\n",
       "      <th>9. How often do you talk with your siblings (through text, phone calls, or other means)?</th>\n",
       "      <th>Major</th>\n",
       "      <th>GPA</th>\n",
       "      <th>Current Units Taken</th>\n",
       "      <th>Lecture Attendance</th>\n",
       "      <th>Office Hours Attendance</th>\n",
       "      <th>Hours Spent on Studying (exc. HW)</th>\n",
       "      <th>Hours Spent on Homework per Week</th>\n",
       "      <th>...</th>\n",
       "      <th>60. On average, how many hours do you use social media per day?</th>\n",
       "      <th>61. On average, how many hours do you spend watching movies per week?</th>\n",
       "      <th>62. On average, how many hours do you listen to music per day?</th>\n",
       "      <th>63. On average, how many hours do you play video games per week?</th>\n",
       "      <th>75. What energizes you?</th>\n",
       "      <th>76. How often do you initiate conversations in group settings?</th>\n",
       "      <th>77. When going out, which of the following would you most prefer?</th>\n",
       "      <th>78. How do you decline invites to go out?</th>\n",
       "      <th>79. What's the first thing you do when facing a problem with your work?</th>\n",
       "      <th>Study Hours</th>\n",
       "    </tr>\n",
       "  </thead>\n",
       "  <tbody>\n",
       "    <tr>\n",
       "      <th>0</th>\n",
       "      <td>1.0</td>\n",
       "      <td>First</td>\n",
       "      <td>Less than once a week</td>\n",
       "      <td>ENCS/CSBA</td>\n",
       "      <td>3.0 - 3.49</td>\n",
       "      <td>20.0</td>\n",
       "      <td>4.0</td>\n",
       "      <td>0.0</td>\n",
       "      <td>7.0</td>\n",
       "      <td>7.0</td>\n",
       "      <td>...</td>\n",
       "      <td>3.0</td>\n",
       "      <td>2.0</td>\n",
       "      <td>4.0</td>\n",
       "      <td>20.0</td>\n",
       "      <td>2.0</td>\n",
       "      <td>3.0</td>\n",
       "      <td>Having a plan but only following it loosely</td>\n",
       "      <td>Making up an excuse</td>\n",
       "      <td>Research potential solutions online</td>\n",
       "      <td>14.0</td>\n",
       "    </tr>\n",
       "    <tr>\n",
       "      <th>1</th>\n",
       "      <td>2.0</td>\n",
       "      <td>Middle</td>\n",
       "      <td>Almost every day</td>\n",
       "      <td>ENCS/CSBA</td>\n",
       "      <td>3.5 - 4.0</td>\n",
       "      <td>13.0</td>\n",
       "      <td>5.0</td>\n",
       "      <td>0.0</td>\n",
       "      <td>6.0</td>\n",
       "      <td>6.0</td>\n",
       "      <td>...</td>\n",
       "      <td>1.0</td>\n",
       "      <td>1.0</td>\n",
       "      <td>4.0</td>\n",
       "      <td>1.0</td>\n",
       "      <td>3.0</td>\n",
       "      <td>5.0</td>\n",
       "      <td>Having a well thought out itinerary</td>\n",
       "      <td>Politely declining</td>\n",
       "      <td>Give up and try again later</td>\n",
       "      <td>12.0</td>\n",
       "    </tr>\n",
       "    <tr>\n",
       "      <th>2</th>\n",
       "      <td>2.0</td>\n",
       "      <td>Middle</td>\n",
       "      <td>Once or twice a week</td>\n",
       "      <td>Neuroscience</td>\n",
       "      <td>3.5 - 4.0</td>\n",
       "      <td>12.0</td>\n",
       "      <td>5.0</td>\n",
       "      <td>0.0</td>\n",
       "      <td>7.0</td>\n",
       "      <td>4.0</td>\n",
       "      <td>...</td>\n",
       "      <td>2.0</td>\n",
       "      <td>1.0</td>\n",
       "      <td>2.0</td>\n",
       "      <td>5.0</td>\n",
       "      <td>2.0</td>\n",
       "      <td>3.0</td>\n",
       "      <td>Having a plan but only following it loosely</td>\n",
       "      <td>Apologize for not being able to go</td>\n",
       "      <td>Research potential solutions online</td>\n",
       "      <td>11.0</td>\n",
       "    </tr>\n",
       "    <tr>\n",
       "      <th>3</th>\n",
       "      <td>1.0</td>\n",
       "      <td>First</td>\n",
       "      <td>Almost every day</td>\n",
       "      <td>ENCS/CSBA</td>\n",
       "      <td>3.0 - 3.49</td>\n",
       "      <td>16.0</td>\n",
       "      <td>5.0</td>\n",
       "      <td>0.0</td>\n",
       "      <td>1.0</td>\n",
       "      <td>8.0</td>\n",
       "      <td>...</td>\n",
       "      <td>3.0</td>\n",
       "      <td>3.0</td>\n",
       "      <td>1.0</td>\n",
       "      <td>10.0</td>\n",
       "      <td>1.0</td>\n",
       "      <td>2.0</td>\n",
       "      <td>Having a well thought out itinerary</td>\n",
       "      <td>Making up an excuse</td>\n",
       "      <td>Research potential solutions online</td>\n",
       "      <td>9.0</td>\n",
       "    </tr>\n",
       "    <tr>\n",
       "      <th>4</th>\n",
       "      <td>1.0</td>\n",
       "      <td>First</td>\n",
       "      <td>Once or twice a week</td>\n",
       "      <td>ENCS/CSBA</td>\n",
       "      <td>3.5 - 4.0</td>\n",
       "      <td>16.0</td>\n",
       "      <td>5.0</td>\n",
       "      <td>0.0</td>\n",
       "      <td>4.0</td>\n",
       "      <td>10.0</td>\n",
       "      <td>...</td>\n",
       "      <td>1.0</td>\n",
       "      <td>1.0</td>\n",
       "      <td>2.0</td>\n",
       "      <td>10.0</td>\n",
       "      <td>4.0</td>\n",
       "      <td>5.0</td>\n",
       "      <td>Having a plan but only following it loosely</td>\n",
       "      <td>Politely declining</td>\n",
       "      <td>Ask a TA, tutor, or professor for help</td>\n",
       "      <td>14.0</td>\n",
       "    </tr>\n",
       "    <tr>\n",
       "      <th>...</th>\n",
       "      <td>...</td>\n",
       "      <td>...</td>\n",
       "      <td>...</td>\n",
       "      <td>...</td>\n",
       "      <td>...</td>\n",
       "      <td>...</td>\n",
       "      <td>...</td>\n",
       "      <td>...</td>\n",
       "      <td>...</td>\n",
       "      <td>...</td>\n",
       "      <td>...</td>\n",
       "      <td>...</td>\n",
       "      <td>...</td>\n",
       "      <td>...</td>\n",
       "      <td>...</td>\n",
       "      <td>...</td>\n",
       "      <td>...</td>\n",
       "      <td>...</td>\n",
       "      <td>...</td>\n",
       "      <td>...</td>\n",
       "      <td>...</td>\n",
       "    </tr>\n",
       "    <tr>\n",
       "      <th>219</th>\n",
       "      <td>1.0</td>\n",
       "      <td>Last</td>\n",
       "      <td>Less than once a week</td>\n",
       "      <td>ENCS/CSBA</td>\n",
       "      <td>3.0 - 3.49</td>\n",
       "      <td>12.0</td>\n",
       "      <td>4.0</td>\n",
       "      <td>0.0</td>\n",
       "      <td>4.0</td>\n",
       "      <td>8.0</td>\n",
       "      <td>...</td>\n",
       "      <td>4.0</td>\n",
       "      <td>2.0</td>\n",
       "      <td>4.0</td>\n",
       "      <td>0.0</td>\n",
       "      <td>3.0</td>\n",
       "      <td>3.0</td>\n",
       "      <td>Having a plan but only following it loosely</td>\n",
       "      <td>Saying you'll get back to them</td>\n",
       "      <td>Research potential solutions online</td>\n",
       "      <td>12.0</td>\n",
       "    </tr>\n",
       "    <tr>\n",
       "      <th>220</th>\n",
       "      <td>2.0</td>\n",
       "      <td>Last</td>\n",
       "      <td>Almost every day</td>\n",
       "      <td>ENCS/CSBA</td>\n",
       "      <td>3.0 - 3.49</td>\n",
       "      <td>13.0</td>\n",
       "      <td>5.0</td>\n",
       "      <td>1.0</td>\n",
       "      <td>12.0</td>\n",
       "      <td>15.0</td>\n",
       "      <td>...</td>\n",
       "      <td>1.0</td>\n",
       "      <td>3.0</td>\n",
       "      <td>2.0</td>\n",
       "      <td>6.0</td>\n",
       "      <td>3.0</td>\n",
       "      <td>4.0</td>\n",
       "      <td>Doing whatever seems right or fun at the moment</td>\n",
       "      <td>Politely declining</td>\n",
       "      <td>Give up and try again later</td>\n",
       "      <td>27.0</td>\n",
       "    </tr>\n",
       "    <tr>\n",
       "      <th>221</th>\n",
       "      <td>1.0</td>\n",
       "      <td>Last</td>\n",
       "      <td>Three or four times a week</td>\n",
       "      <td>ENCS/CSBA</td>\n",
       "      <td>2.5 - 2.99</td>\n",
       "      <td>13.0</td>\n",
       "      <td>3.0</td>\n",
       "      <td>0.0</td>\n",
       "      <td>10.0</td>\n",
       "      <td>10.0</td>\n",
       "      <td>...</td>\n",
       "      <td>5.0</td>\n",
       "      <td>2.0</td>\n",
       "      <td>20.0</td>\n",
       "      <td>5.0</td>\n",
       "      <td>4.0</td>\n",
       "      <td>4.0</td>\n",
       "      <td>Having a plan but only following it loosely</td>\n",
       "      <td>Politely declining</td>\n",
       "      <td>Ask a TA, tutor, or professor for help</td>\n",
       "      <td>20.0</td>\n",
       "    </tr>\n",
       "    <tr>\n",
       "      <th>222</th>\n",
       "      <td>5.0</td>\n",
       "      <td>Last</td>\n",
       "      <td>Almost every day</td>\n",
       "      <td>ENCS/CSBA</td>\n",
       "      <td>3.5 - 4.0</td>\n",
       "      <td>17.0</td>\n",
       "      <td>5.0</td>\n",
       "      <td>0.0</td>\n",
       "      <td>10.0</td>\n",
       "      <td>10.0</td>\n",
       "      <td>...</td>\n",
       "      <td>1.0</td>\n",
       "      <td>2.0</td>\n",
       "      <td>4.0</td>\n",
       "      <td>1.0</td>\n",
       "      <td>1.0</td>\n",
       "      <td>3.0</td>\n",
       "      <td>Having a plan but only following it loosely</td>\n",
       "      <td>Apologize for not being able to go</td>\n",
       "      <td>Ask a TA, tutor, or professor for help</td>\n",
       "      <td>20.0</td>\n",
       "    </tr>\n",
       "    <tr>\n",
       "      <th>223</th>\n",
       "      <td>0.0</td>\n",
       "      <td>Only child</td>\n",
       "      <td>I don't have siblings</td>\n",
       "      <td>ENCS/CSBA</td>\n",
       "      <td>3.0 - 3.49</td>\n",
       "      <td>12.0</td>\n",
       "      <td>5.0</td>\n",
       "      <td>1.0</td>\n",
       "      <td>7.0</td>\n",
       "      <td>9.0</td>\n",
       "      <td>...</td>\n",
       "      <td>4.0</td>\n",
       "      <td>12.0</td>\n",
       "      <td>13.0</td>\n",
       "      <td>14.0</td>\n",
       "      <td>5.0</td>\n",
       "      <td>4.0</td>\n",
       "      <td>Having a plan but only following it loosely</td>\n",
       "      <td>Apologize for not being able to go</td>\n",
       "      <td>Ask a TA, tutor, or professor for help</td>\n",
       "      <td>16.0</td>\n",
       "    </tr>\n",
       "  </tbody>\n",
       "</table>\n",
       "<p>224 rows × 25 columns</p>\n",
       "</div>"
      ],
      "text/plain": [
       "     7. How many siblings do you have?  \\\n",
       "0                                  1.0   \n",
       "1                                  2.0   \n",
       "2                                  2.0   \n",
       "3                                  1.0   \n",
       "4                                  1.0   \n",
       "..                                 ...   \n",
       "219                                1.0   \n",
       "220                                2.0   \n",
       "221                                1.0   \n",
       "222                                5.0   \n",
       "223                                0.0   \n",
       "\n",
       "    8. Are you a first, middle, last, or only child?  \\\n",
       "0                                              First   \n",
       "1                                             Middle   \n",
       "2                                             Middle   \n",
       "3                                              First   \n",
       "4                                              First   \n",
       "..                                               ...   \n",
       "219                                             Last   \n",
       "220                                             Last   \n",
       "221                                             Last   \n",
       "222                                             Last   \n",
       "223                                       Only child   \n",
       "\n",
       "    9. How often do you talk with your siblings (through text, phone calls, or other means)?   \\\n",
       "0                                Less than once a week                                          \n",
       "1                                     Almost every day                                          \n",
       "2                                 Once or twice a week                                          \n",
       "3                                     Almost every day                                          \n",
       "4                                 Once or twice a week                                          \n",
       "..                                                 ...                                          \n",
       "219                              Less than once a week                                          \n",
       "220                                   Almost every day                                          \n",
       "221                         Three or four times a week                                          \n",
       "222                                   Almost every day                                          \n",
       "223                              I don't have siblings                                          \n",
       "\n",
       "            Major         GPA  Current Units Taken  Lecture Attendance  \\\n",
       "0       ENCS/CSBA  3.0 - 3.49                 20.0                 4.0   \n",
       "1       ENCS/CSBA   3.5 - 4.0                 13.0                 5.0   \n",
       "2    Neuroscience   3.5 - 4.0                 12.0                 5.0   \n",
       "3       ENCS/CSBA  3.0 - 3.49                 16.0                 5.0   \n",
       "4       ENCS/CSBA   3.5 - 4.0                 16.0                 5.0   \n",
       "..            ...         ...                  ...                 ...   \n",
       "219     ENCS/CSBA  3.0 - 3.49                 12.0                 4.0   \n",
       "220     ENCS/CSBA  3.0 - 3.49                 13.0                 5.0   \n",
       "221     ENCS/CSBA  2.5 - 2.99                 13.0                 3.0   \n",
       "222     ENCS/CSBA   3.5 - 4.0                 17.0                 5.0   \n",
       "223     ENCS/CSBA  3.0 - 3.49                 12.0                 5.0   \n",
       "\n",
       "     Office Hours Attendance  Hours Spent on Studying (exc. HW)  \\\n",
       "0                        0.0                                7.0   \n",
       "1                        0.0                                6.0   \n",
       "2                        0.0                                7.0   \n",
       "3                        0.0                                1.0   \n",
       "4                        0.0                                4.0   \n",
       "..                       ...                                ...   \n",
       "219                      0.0                                4.0   \n",
       "220                      1.0                               12.0   \n",
       "221                      0.0                               10.0   \n",
       "222                      0.0                               10.0   \n",
       "223                      1.0                                7.0   \n",
       "\n",
       "     Hours Spent on Homework per Week  ...  \\\n",
       "0                                 7.0  ...   \n",
       "1                                 6.0  ...   \n",
       "2                                 4.0  ...   \n",
       "3                                 8.0  ...   \n",
       "4                                10.0  ...   \n",
       "..                                ...  ...   \n",
       "219                               8.0  ...   \n",
       "220                              15.0  ...   \n",
       "221                              10.0  ...   \n",
       "222                              10.0  ...   \n",
       "223                               9.0  ...   \n",
       "\n",
       "    60. On average, how many hours do you use social media per day?  \\\n",
       "0                                                  3.0                \n",
       "1                                                  1.0                \n",
       "2                                                  2.0                \n",
       "3                                                  3.0                \n",
       "4                                                  1.0                \n",
       "..                                                 ...                \n",
       "219                                                4.0                \n",
       "220                                                1.0                \n",
       "221                                                5.0                \n",
       "222                                                1.0                \n",
       "223                                                4.0                \n",
       "\n",
       "     61. On average, how many hours do you spend watching movies per week?  \\\n",
       "0                                                  2.0                       \n",
       "1                                                  1.0                       \n",
       "2                                                  1.0                       \n",
       "3                                                  3.0                       \n",
       "4                                                  1.0                       \n",
       "..                                                 ...                       \n",
       "219                                                2.0                       \n",
       "220                                                3.0                       \n",
       "221                                                2.0                       \n",
       "222                                                2.0                       \n",
       "223                                               12.0                       \n",
       "\n",
       "     62. On average, how many hours do you listen to music per day?  \\\n",
       "0                                                  4.0                \n",
       "1                                                  4.0                \n",
       "2                                                  2.0                \n",
       "3                                                  1.0                \n",
       "4                                                  2.0                \n",
       "..                                                 ...                \n",
       "219                                                4.0                \n",
       "220                                                2.0                \n",
       "221                                               20.0                \n",
       "222                                                4.0                \n",
       "223                                               13.0                \n",
       "\n",
       "     63. On average, how many hours do you play video games per week?  \\\n",
       "0                                                 20.0                  \n",
       "1                                                  1.0                  \n",
       "2                                                  5.0                  \n",
       "3                                                 10.0                  \n",
       "4                                                 10.0                  \n",
       "..                                                 ...                  \n",
       "219                                                0.0                  \n",
       "220                                                6.0                  \n",
       "221                                                5.0                  \n",
       "222                                                1.0                  \n",
       "223                                               14.0                  \n",
       "\n",
       "     75. What energizes you?  \\\n",
       "0                        2.0   \n",
       "1                        3.0   \n",
       "2                        2.0   \n",
       "3                        1.0   \n",
       "4                        4.0   \n",
       "..                       ...   \n",
       "219                      3.0   \n",
       "220                      3.0   \n",
       "221                      4.0   \n",
       "222                      1.0   \n",
       "223                      5.0   \n",
       "\n",
       "     76. How often do you initiate conversations in group settings?  \\\n",
       "0                                                  3.0                \n",
       "1                                                  5.0                \n",
       "2                                                  3.0                \n",
       "3                                                  2.0                \n",
       "4                                                  5.0                \n",
       "..                                                 ...                \n",
       "219                                                3.0                \n",
       "220                                                4.0                \n",
       "221                                                4.0                \n",
       "222                                                3.0                \n",
       "223                                                4.0                \n",
       "\n",
       "     77. When going out, which of the following would you most prefer?  \\\n",
       "0          Having a plan but only following it loosely                   \n",
       "1                  Having a well thought out itinerary                   \n",
       "2          Having a plan but only following it loosely                   \n",
       "3                  Having a well thought out itinerary                   \n",
       "4          Having a plan but only following it loosely                   \n",
       "..                                                 ...                   \n",
       "219        Having a plan but only following it loosely                   \n",
       "220    Doing whatever seems right or fun at the moment                   \n",
       "221        Having a plan but only following it loosely                   \n",
       "222        Having a plan but only following it loosely                   \n",
       "223        Having a plan but only following it loosely                   \n",
       "\n",
       "     78. How do you decline invites to go out?  \\\n",
       "0                          Making up an excuse   \n",
       "1                           Politely declining   \n",
       "2           Apologize for not being able to go   \n",
       "3                          Making up an excuse   \n",
       "4                           Politely declining   \n",
       "..                                         ...   \n",
       "219             Saying you'll get back to them   \n",
       "220                         Politely declining   \n",
       "221                         Politely declining   \n",
       "222         Apologize for not being able to go   \n",
       "223         Apologize for not being able to go   \n",
       "\n",
       "     79. What's the first thing you do when facing a problem with your work?  \\\n",
       "0                  Research potential solutions online                         \n",
       "1                          Give up and try again later                         \n",
       "2                  Research potential solutions online                         \n",
       "3                  Research potential solutions online                         \n",
       "4               Ask a TA, tutor, or professor for help                         \n",
       "..                                                 ...                         \n",
       "219                Research potential solutions online                         \n",
       "220                        Give up and try again later                         \n",
       "221             Ask a TA, tutor, or professor for help                         \n",
       "222             Ask a TA, tutor, or professor for help                         \n",
       "223             Ask a TA, tutor, or professor for help                         \n",
       "\n",
       "     Study Hours  \n",
       "0           14.0  \n",
       "1           12.0  \n",
       "2           11.0  \n",
       "3            9.0  \n",
       "4           14.0  \n",
       "..           ...  \n",
       "219         12.0  \n",
       "220         27.0  \n",
       "221         20.0  \n",
       "222         20.0  \n",
       "223         16.0  \n",
       "\n",
       "[224 rows x 25 columns]"
      ]
     },
     "execution_count": 4,
     "metadata": {},
     "output_type": "execute_result"
    }
   ],
   "source": [
    "df2"
   ]
  },
  {
   "cell_type": "markdown",
   "id": "08a1dfc8",
   "metadata": {},
   "source": [
    "# 2. What would you like to know?"
   ]
  },
  {
   "cell_type": "markdown",
   "id": "9d54f854",
   "metadata": {},
   "source": [
    "Based on the data collected from CS105 and CS111 classes, are the stereotypes of introverts and extroverts true?"
   ]
  },
  {
   "cell_type": "markdown",
   "id": "b463de1f",
   "metadata": {},
   "source": [
    "# 3. Explore the data."
   ]
  },
  {
   "cell_type": "markdown",
   "id": "fc61d715",
   "metadata": {},
   "source": [
    "### Joint Distribution"
   ]
  },
  {
   "cell_type": "code",
   "execution_count": 5,
   "id": "8c36c7af",
   "metadata": {},
   "outputs": [],
   "source": [
    "# countByMajor = df2.pivot_table(\n",
    "#     index=\"Major\", columns=\"75. What energizes you?\",\n",
    "#     values=\"20. How many units are you taking currently?\",  # We can pretty much count any column, as long as there are no NaNs.\n",
    "#     aggfunc=\"count\" # The count function will count the number of non-null values.\n",
    "# )\n",
    "# countByMajor"
   ]
  },
  {
   "cell_type": "code",
   "execution_count": 6,
   "id": "a48449e0",
   "metadata": {},
   "outputs": [],
   "source": [
    "#Created a new column called \"Personality\" based on Q75\n",
    "df2.loc[(df2[\"75. What energizes you?\"] >= 4, \"Personality\")] = 'Extrovert'\n",
    "df2.loc[(df2[\"75. What energizes you?\"] == 3, \"Personality\")] = 'Ambivert'\n",
    "df2.loc[(df2[\"75. What energizes you?\"] <= 2, \"Personality\")] = 'Introvert'\n",
    "df2.loc[(df2[\"75. What energizes you?\"] == 0, \"Personality\")] = 'Unknown'"
   ]
  },
  {
   "cell_type": "code",
   "execution_count": 7,
   "id": "2fb4b379",
   "metadata": {
    "scrolled": true,
    "tags": []
   },
   "outputs": [
    {
     "data": {
      "text/html": [
       "<div>\n",
       "<style scoped>\n",
       "    .dataframe tbody tr th:only-of-type {\n",
       "        vertical-align: middle;\n",
       "    }\n",
       "\n",
       "    .dataframe tbody tr th {\n",
       "        vertical-align: top;\n",
       "    }\n",
       "\n",
       "    .dataframe thead th {\n",
       "        text-align: right;\n",
       "    }\n",
       "</style>\n",
       "<table border=\"1\" class=\"dataframe\">\n",
       "  <thead>\n",
       "    <tr style=\"text-align: right;\">\n",
       "      <th>Personality</th>\n",
       "      <th>Ambivert</th>\n",
       "      <th>Extrovert</th>\n",
       "      <th>Introvert</th>\n",
       "      <th>Unknown</th>\n",
       "    </tr>\n",
       "    <tr>\n",
       "      <th>Major</th>\n",
       "      <th></th>\n",
       "      <th></th>\n",
       "      <th></th>\n",
       "      <th></th>\n",
       "    </tr>\n",
       "  </thead>\n",
       "  <tbody>\n",
       "    <tr>\n",
       "      <th>Business Admin</th>\n",
       "      <td>1</td>\n",
       "      <td>0</td>\n",
       "      <td>0</td>\n",
       "      <td>0</td>\n",
       "    </tr>\n",
       "    <tr>\n",
       "      <th>Chemical Engineering</th>\n",
       "      <td>1</td>\n",
       "      <td>0</td>\n",
       "      <td>0</td>\n",
       "      <td>0</td>\n",
       "    </tr>\n",
       "    <tr>\n",
       "      <th>Chemistry</th>\n",
       "      <td>1</td>\n",
       "      <td>0</td>\n",
       "      <td>0</td>\n",
       "      <td>0</td>\n",
       "    </tr>\n",
       "    <tr>\n",
       "      <th>Computational Mathematics/Mathematics</th>\n",
       "      <td>4</td>\n",
       "      <td>0</td>\n",
       "      <td>5</td>\n",
       "      <td>0</td>\n",
       "    </tr>\n",
       "    <tr>\n",
       "      <th>Computer Engineering</th>\n",
       "      <td>8</td>\n",
       "      <td>5</td>\n",
       "      <td>7</td>\n",
       "      <td>0</td>\n",
       "    </tr>\n",
       "    <tr>\n",
       "      <th>Data Science</th>\n",
       "      <td>16</td>\n",
       "      <td>5</td>\n",
       "      <td>6</td>\n",
       "      <td>0</td>\n",
       "    </tr>\n",
       "    <tr>\n",
       "      <th>ENCS/CSBA</th>\n",
       "      <td>54</td>\n",
       "      <td>48</td>\n",
       "      <td>51</td>\n",
       "      <td>4</td>\n",
       "    </tr>\n",
       "    <tr>\n",
       "      <th>Electrical Engineering</th>\n",
       "      <td>0</td>\n",
       "      <td>0</td>\n",
       "      <td>1</td>\n",
       "      <td>0</td>\n",
       "    </tr>\n",
       "    <tr>\n",
       "      <th>Neuroscience</th>\n",
       "      <td>0</td>\n",
       "      <td>0</td>\n",
       "      <td>2</td>\n",
       "      <td>0</td>\n",
       "    </tr>\n",
       "    <tr>\n",
       "      <th>Physics</th>\n",
       "      <td>0</td>\n",
       "      <td>0</td>\n",
       "      <td>1</td>\n",
       "      <td>0</td>\n",
       "    </tr>\n",
       "    <tr>\n",
       "      <th>Psychology</th>\n",
       "      <td>1</td>\n",
       "      <td>0</td>\n",
       "      <td>1</td>\n",
       "      <td>0</td>\n",
       "    </tr>\n",
       "    <tr>\n",
       "      <th>Unknown</th>\n",
       "      <td>1</td>\n",
       "      <td>1</td>\n",
       "      <td>0</td>\n",
       "      <td>0</td>\n",
       "    </tr>\n",
       "  </tbody>\n",
       "</table>\n",
       "</div>"
      ],
      "text/plain": [
       "Personality                            Ambivert  Extrovert  Introvert  Unknown\n",
       "Major                                                                         \n",
       "Business Admin                                1          0          0        0\n",
       "Chemical Engineering                          1          0          0        0\n",
       "Chemistry                                     1          0          0        0\n",
       "Computational Mathematics/Mathematics         4          0          5        0\n",
       "Computer Engineering                          8          5          7        0\n",
       "Data Science                                 16          5          6        0\n",
       "ENCS/CSBA                                    54         48         51        4\n",
       "Electrical Engineering                        0          0          1        0\n",
       "Neuroscience                                  0          0          2        0\n",
       "Physics                                       0          0          1        0\n",
       "Psychology                                    1          0          1        0\n",
       "Unknown                                       1          1          0        0"
      ]
     },
     "execution_count": 7,
     "metadata": {},
     "output_type": "execute_result"
    }
   ],
   "source": [
    "#Distribution of Personality based on Major\n",
    "countByMajor = df2.pivot_table(\n",
    "    index=\"Major\", columns=\"Personality\",\n",
    "    values=\"Current Units Taken\",  # We can pretty much count any column, as long as there are no NaNs.\n",
    "    aggfunc=\"count\", # The count function will count the number of non-null values.\n",
    "    fill_value=0\n",
    ")\n",
    "countByMajor"
   ]
  },
  {
   "cell_type": "code",
   "execution_count": 8,
   "id": "7a184383",
   "metadata": {},
   "outputs": [
    {
     "data": {
      "text/html": [
       "<div>\n",
       "<style scoped>\n",
       "    .dataframe tbody tr th:only-of-type {\n",
       "        vertical-align: middle;\n",
       "    }\n",
       "\n",
       "    .dataframe tbody tr th {\n",
       "        vertical-align: top;\n",
       "    }\n",
       "\n",
       "    .dataframe thead th {\n",
       "        text-align: right;\n",
       "    }\n",
       "</style>\n",
       "<table border=\"1\" class=\"dataframe\">\n",
       "  <thead>\n",
       "    <tr style=\"text-align: right;\">\n",
       "      <th>Personality</th>\n",
       "      <th>Ambivert</th>\n",
       "      <th>Extrovert</th>\n",
       "      <th>Introvert</th>\n",
       "      <th>Unknown</th>\n",
       "    </tr>\n",
       "    <tr>\n",
       "      <th>Major</th>\n",
       "      <th></th>\n",
       "      <th></th>\n",
       "      <th></th>\n",
       "      <th></th>\n",
       "    </tr>\n",
       "  </thead>\n",
       "  <tbody>\n",
       "    <tr>\n",
       "      <th>Business Admin</th>\n",
       "      <td>0.004464</td>\n",
       "      <td>0.000000</td>\n",
       "      <td>0.000000</td>\n",
       "      <td>0.000000</td>\n",
       "    </tr>\n",
       "    <tr>\n",
       "      <th>Chemical Engineering</th>\n",
       "      <td>0.004464</td>\n",
       "      <td>0.000000</td>\n",
       "      <td>0.000000</td>\n",
       "      <td>0.000000</td>\n",
       "    </tr>\n",
       "    <tr>\n",
       "      <th>Chemistry</th>\n",
       "      <td>0.004464</td>\n",
       "      <td>0.000000</td>\n",
       "      <td>0.000000</td>\n",
       "      <td>0.000000</td>\n",
       "    </tr>\n",
       "    <tr>\n",
       "      <th>Computational Mathematics/Mathematics</th>\n",
       "      <td>0.017857</td>\n",
       "      <td>0.000000</td>\n",
       "      <td>0.022321</td>\n",
       "      <td>0.000000</td>\n",
       "    </tr>\n",
       "    <tr>\n",
       "      <th>Computer Engineering</th>\n",
       "      <td>0.035714</td>\n",
       "      <td>0.022321</td>\n",
       "      <td>0.031250</td>\n",
       "      <td>0.000000</td>\n",
       "    </tr>\n",
       "    <tr>\n",
       "      <th>Data Science</th>\n",
       "      <td>0.071429</td>\n",
       "      <td>0.022321</td>\n",
       "      <td>0.026786</td>\n",
       "      <td>0.000000</td>\n",
       "    </tr>\n",
       "    <tr>\n",
       "      <th>ENCS/CSBA</th>\n",
       "      <td>0.241071</td>\n",
       "      <td>0.214286</td>\n",
       "      <td>0.227679</td>\n",
       "      <td>0.017857</td>\n",
       "    </tr>\n",
       "    <tr>\n",
       "      <th>Electrical Engineering</th>\n",
       "      <td>0.000000</td>\n",
       "      <td>0.000000</td>\n",
       "      <td>0.004464</td>\n",
       "      <td>0.000000</td>\n",
       "    </tr>\n",
       "    <tr>\n",
       "      <th>Neuroscience</th>\n",
       "      <td>0.000000</td>\n",
       "      <td>0.000000</td>\n",
       "      <td>0.008929</td>\n",
       "      <td>0.000000</td>\n",
       "    </tr>\n",
       "    <tr>\n",
       "      <th>Physics</th>\n",
       "      <td>0.000000</td>\n",
       "      <td>0.000000</td>\n",
       "      <td>0.004464</td>\n",
       "      <td>0.000000</td>\n",
       "    </tr>\n",
       "    <tr>\n",
       "      <th>Psychology</th>\n",
       "      <td>0.004464</td>\n",
       "      <td>0.000000</td>\n",
       "      <td>0.004464</td>\n",
       "      <td>0.000000</td>\n",
       "    </tr>\n",
       "    <tr>\n",
       "      <th>Unknown</th>\n",
       "      <td>0.004464</td>\n",
       "      <td>0.004464</td>\n",
       "      <td>0.000000</td>\n",
       "      <td>0.000000</td>\n",
       "    </tr>\n",
       "  </tbody>\n",
       "</table>\n",
       "</div>"
      ],
      "text/plain": [
       "Personality                            Ambivert  Extrovert  Introvert  \\\n",
       "Major                                                                   \n",
       "Business Admin                         0.004464   0.000000   0.000000   \n",
       "Chemical Engineering                   0.004464   0.000000   0.000000   \n",
       "Chemistry                              0.004464   0.000000   0.000000   \n",
       "Computational Mathematics/Mathematics  0.017857   0.000000   0.022321   \n",
       "Computer Engineering                   0.035714   0.022321   0.031250   \n",
       "Data Science                           0.071429   0.022321   0.026786   \n",
       "ENCS/CSBA                              0.241071   0.214286   0.227679   \n",
       "Electrical Engineering                 0.000000   0.000000   0.004464   \n",
       "Neuroscience                           0.000000   0.000000   0.008929   \n",
       "Physics                                0.000000   0.000000   0.004464   \n",
       "Psychology                             0.004464   0.000000   0.004464   \n",
       "Unknown                                0.004464   0.004464   0.000000   \n",
       "\n",
       "Personality                             Unknown  \n",
       "Major                                            \n",
       "Business Admin                         0.000000  \n",
       "Chemical Engineering                   0.000000  \n",
       "Chemistry                              0.000000  \n",
       "Computational Mathematics/Mathematics  0.000000  \n",
       "Computer Engineering                   0.000000  \n",
       "Data Science                           0.000000  \n",
       "ENCS/CSBA                              0.017857  \n",
       "Electrical Engineering                 0.000000  \n",
       "Neuroscience                           0.000000  \n",
       "Physics                                0.000000  \n",
       "Psychology                             0.000000  \n",
       "Unknown                                0.000000  "
      ]
     },
     "execution_count": 8,
     "metadata": {},
     "output_type": "execute_result"
    }
   ],
   "source": [
    "joint_prob = pd.crosstab(df2[\"Major\"], df2[\"Personality\"], normalize=True)\n",
    "joint_prob"
   ]
  },
  {
   "cell_type": "code",
   "execution_count": 9,
   "id": "fd9129fe",
   "metadata": {},
   "outputs": [
    {
     "data": {
      "text/plain": [
       "<AxesSubplot:xlabel='Personality', ylabel='Major'>"
      ]
     },
     "execution_count": 9,
     "metadata": {},
     "output_type": "execute_result"
    },
    {
     "data": {
      "image/png": "[encoded data removed]",
      "text/plain": [
       "<Figure size 432x288 with 2 Axes>"
      ]
     },
     "metadata": {
      "needs_background": "light"
     },
     "output_type": "display_data"
    }
   ],
   "source": [
    "sns.heatmap(joint_prob)"
   ]
  },
  {
   "cell_type": "markdown",
   "id": "8b2cc6ee",
   "metadata": {},
   "source": [
    "# Bar Graph"
   ]
  },
  {
   "cell_type": "code",
   "execution_count": 10,
   "id": "d4ba219b",
   "metadata": {},
   "outputs": [
    {
     "data": {
      "image/png": "[encoded data removed]",
      "text/plain": [
       "<Figure size 432x288 with 1 Axes>"
      ]
     },
     "metadata": {
      "needs_background": "light"
     },
     "output_type": "display_data"
    }
   ],
   "source": [
    "#Bar Graph to Show How the Distribution of Personality from the entire data\n",
    "personalityCount = df2.groupby(\"Personality\")[\"Major\"].count()\n",
    "plt.bar(personalityCount.index,personalityCount)\n",
    "plt.xticks(rotation=90)\n",
    "plt.show()"
   ]
  },
  {
   "cell_type": "markdown",
   "id": "e8e3d7a0",
   "metadata": {},
   "source": [
    "# Radar Chart"
   ]
  },
  {
   "cell_type": "code",
   "execution_count": 11,
   "id": "2bc2276b",
   "metadata": {},
   "outputs": [],
   "source": [
    "#Radar Chart showing Academic Performance based on Personality\n",
    "# 15. What is your current GPA?\n",
    "# 20. How many units are you taking currently?\n",
    "# 22. How often do you attend lectures?\n",
    "# 27. How many times a week do you attend office hours on average?\n",
    "# 28. On average, how many hours do you study per week? (excluding homework)\n",
    "# 29. On average, how many hours do you spend on homework per week?\n",
    "\n",
    "df3 = pd.DataFrame({'Personality' : df2['Personality'], 'GPA': df2['GPA'], 'Current Units Taken': df2['Current Units Taken'], 'Total Study Hours': df2['Study Hours'], 'Lecture Attendance': df2['Lecture Attendance'], 'Office Hours Attendance': df2['Office Hours Attendance']})\n",
    "# df3\n"
   ]
  },
  {
   "cell_type": "code",
   "execution_count": 12,
   "id": "04e1929b",
   "metadata": {},
   "outputs": [
    {
     "data": {
      "text/html": [
       "<div>\n",
       "<style scoped>\n",
       "    .dataframe tbody tr th:only-of-type {\n",
       "        vertical-align: middle;\n",
       "    }\n",
       "\n",
       "    .dataframe tbody tr th {\n",
       "        vertical-align: top;\n",
       "    }\n",
       "\n",
       "    .dataframe thead th {\n",
       "        text-align: right;\n",
       "    }\n",
       "</style>\n",
       "<table border=\"1\" class=\"dataframe\">\n",
       "  <thead>\n",
       "    <tr style=\"text-align: right;\">\n",
       "      <th></th>\n",
       "      <th>Personality</th>\n",
       "      <th>GPA</th>\n",
       "      <th>Current Units Taken</th>\n",
       "      <th>Total Study Hours</th>\n",
       "      <th>Lecture Attendance</th>\n",
       "      <th>Office Hours Attendance</th>\n",
       "    </tr>\n",
       "  </thead>\n",
       "  <tbody>\n",
       "    <tr>\n",
       "      <th>0</th>\n",
       "      <td>Ambivert</td>\n",
       "      <td>3.316092</td>\n",
       "      <td>14.229885</td>\n",
       "      <td>16.735632</td>\n",
       "      <td>4.126437</td>\n",
       "      <td>0.793103</td>\n",
       "    </tr>\n",
       "    <tr>\n",
       "      <th>1</th>\n",
       "      <td>Extrovert</td>\n",
       "      <td>3.309322</td>\n",
       "      <td>15.322034</td>\n",
       "      <td>21.627119</td>\n",
       "      <td>4.152542</td>\n",
       "      <td>0.694915</td>\n",
       "    </tr>\n",
       "    <tr>\n",
       "      <th>2</th>\n",
       "      <td>Introvert</td>\n",
       "      <td>3.432432</td>\n",
       "      <td>14.486486</td>\n",
       "      <td>16.445946</td>\n",
       "      <td>4.324324</td>\n",
       "      <td>0.567568</td>\n",
       "    </tr>\n",
       "    <tr>\n",
       "      <th>3</th>\n",
       "      <td>Unknown</td>\n",
       "      <td>3.375000</td>\n",
       "      <td>14.750000</td>\n",
       "      <td>3.500000</td>\n",
       "      <td>2.750000</td>\n",
       "      <td>0.250000</td>\n",
       "    </tr>\n",
       "  </tbody>\n",
       "</table>\n",
       "</div>"
      ],
      "text/plain": [
       "  Personality       GPA  Current Units Taken  Total Study Hours  \\\n",
       "0    Ambivert  3.316092            14.229885          16.735632   \n",
       "1   Extrovert  3.309322            15.322034          21.627119   \n",
       "2   Introvert  3.432432            14.486486          16.445946   \n",
       "3     Unknown  3.375000            14.750000           3.500000   \n",
       "\n",
       "   Lecture Attendance  Office Hours Attendance  \n",
       "0            4.126437                 0.793103  \n",
       "1            4.152542                 0.694915  \n",
       "2            4.324324                 0.567568  \n",
       "3            2.750000                 0.250000  "
      ]
     },
     "execution_count": 12,
     "metadata": {},
     "output_type": "execute_result"
    }
   ],
   "source": [
    "df3 = df3.replace('0 - 1.49', 0.75)\n",
    "df3 = df3.replace('1.5 - 1.99', 1.75)\n",
    "df3 = df3.replace('2.0 - 2.49', 2.25)\n",
    "df3 = df3.replace('2.5 - 2.99', 2.75)\n",
    "df3 = df3.replace('3.0 - 3.49', 3.25)\n",
    "df3 = df3.replace('3.5 - 4.0', 3.75)\n",
    "df3_mean = df3.groupby('Personality').mean()\n",
    "df3_mean\n",
    "df3_new = pd.DataFrame({'Personality' : df3_mean.index, 'GPA': df3_mean['GPA'], 'Current Units Taken': df3_mean['Current Units Taken'], 'Total Study Hours': df3_mean['Total Study Hours'], 'Lecture Attendance': df3_mean['Lecture Attendance'], 'Office Hours Attendance': df3_mean['Office Hours Attendance']}).reset_index(drop=True)\n",
    "df3_new\n"
   ]
  },
  {
   "cell_type": "code",
   "execution_count": 13,
   "id": "544821ec",
   "metadata": {},
   "outputs": [
    {
     "data": {
      "image/png": "[encoded data removed]",
      "text/plain": [
       "<Figure size 432x432 with 1 Axes>"
      ]
     },
     "metadata": {
      "needs_background": "light"
     },
     "output_type": "display_data"
    }
   ],
   "source": [
    "categories=np.array(['GPA', 'Current Units Taken', 'Total Study Hours', 'Lecture Attendance', 'Office Hours Attendance'])\n",
    "categories = [*categories, categories[0]]\n",
    "\n",
    "a_stats=df3_new.loc[0,categories].values\n",
    "e_stats=df3_new.loc[1,categories].values\n",
    "i_stats=df3_new.loc[2,categories].values\n",
    "# a_stats = [*a_stats, a_stats[0]]\n",
    "# e_stats = [*e_stats, e_stats[0]]\n",
    "# i_stats = [*i_stats, i_stats[0]]\n",
    "\n",
    "label_loc = np.linspace(start=0, stop=2 * np.pi, num=len(a_stats))\n",
    "\n",
    "plt.figure(figsize=(6, 6))\n",
    "plt.subplot(polar=True)\n",
    "plt.plot(label_loc, a_stats, label='Ambiverts')\n",
    "plt.plot(label_loc, e_stats, label='Extroverts')\n",
    "plt.plot(label_loc, i_stats, label='Introverts')\n",
    "plt.title('Personality Comparision', size=20, y=1.05)\n",
    "lines, labels = plt.thetagrids(np.degrees(label_loc), labels=categories)\n",
    "plt.legend()\n",
    "plt.show()"
   ]
  },
  {
   "cell_type": "code",
   "execution_count": 14,
   "id": "2c832c66-6863-4030-94fc-611695c8c45e",
   "metadata": {},
   "outputs": [
    {
     "data": {
      "text/plain": [
       "<AxesSubplot:xlabel='Personality'>"
      ]
     },
     "execution_count": 14,
     "metadata": {},
     "output_type": "execute_result"
    },
    {
     "data": {
      "image/png": "[encoded data removed]",
      "text/plain": [
       "<Figure size 432x288 with 1 Axes>"
      ]
     },
     "metadata": {
      "needs_background": "light"
     },
     "output_type": "display_data"
    }
   ],
   "source": [
    "#Mihika\n",
    "#correlation between whether or not a student is an only child and their personality trait.\n",
    "#q7,8,9\n",
    "df4 = df2.groupby(['Personality','7. How many siblings do you have?']).size()\n",
    "df4 = df4.unstack()\n",
    "df4.plot(kind=\"line\")"
   ]
  },
  {
   "cell_type": "code",
   "execution_count": 15,
   "id": "d09482a9-2742-4ef0-b6be-effac8748496",
   "metadata": {},
   "outputs": [
    {
     "data": {
      "text/plain": [
       "<AxesSubplot:xlabel='Personality'>"
      ]
     },
     "execution_count": 15,
     "metadata": {},
     "output_type": "execute_result"
    },
    {
     "data": {
      "image/png": "[encoded data removed]",
      "text/plain": [
       "<Figure size 432x288 with 1 Axes>"
      ]
     },
     "metadata": {
      "needs_background": "light"
     },
     "output_type": "display_data"
    }
   ],
   "source": [
    "df4 = df2.groupby(['Personality','8. Are you a first, middle, last, or only child?']).size()\n",
    "df4 = df4.unstack()\n",
    "df4.plot(kind=\"bar\")"
   ]
  },
  {
   "cell_type": "code",
   "execution_count": 16,
   "id": "2f1665b7-544e-4989-806e-0e14b84f3c7f",
   "metadata": {},
   "outputs": [
    {
     "data": {
      "text/plain": [
       "<AxesSubplot:xlabel='Personality'>"
      ]
     },
     "execution_count": 16,
     "metadata": {},
     "output_type": "execute_result"
    },
    {
     "data": {
      "image/png": "[encoded data removed]",
      "text/plain": [
       "<Figure size 1080x432 with 1 Axes>"
      ]
     },
     "metadata": {
      "needs_background": "light"
     },
     "output_type": "display_data"
    }
   ],
   "source": [
    "df4 = df2.groupby(['Personality', '9. How often do you talk with your siblings (through text, phone calls, or other means)? ']).size()\n",
    "df4 = df4.unstack()\n",
    "df4.plot(figsize=(15,6),kind=\"area\")"
   ]
  },
  {
   "cell_type": "markdown",
   "id": "c1e4d28c",
   "metadata": {},
   "source": [
    "# 4. Can you state any hypotheses or make predictions? Which tests can you apply to verify your hypothesis? "
   ]
  },
  {
   "cell_type": "markdown",
   "id": "99d6fdf1-e445-494e-b8db-7ee6a1805089",
   "metadata": {},
   "source": [
    "1. There is a correlation between a student’s academic performance and their personality trait. \n",
    "Null: Academic performance and personality trait is independent. \n",
    "Alternate: Academic performance and personality trait is correlated."
   ]
  },
  {
   "cell_type": "markdown",
   "id": "bc2e128e-2e17-4037-acb0-f02bcb8bdaaf",
   "metadata": {},
   "source": [
    "2. There is a correlation between birth order and their personality trait. \n",
    "Null: A birth order and personality trait is independent. Alternate: A birth order and personality trait is correlated."
   ]
  },
  {
   "cell_type": "markdown",
   "id": "16728be6-b04c-462f-a039-12772d9f0950",
   "metadata": {},
   "source": [
    "3. There is a correlation between how many clubs a student participates in and their personality trait. \n",
    "Null: The number of clubs a student participates in and their personality trait is independent. Alternate: The number of clubs a student participates in and their personality trait is correlated."
   ]
  },
  {
   "cell_type": "markdown",
   "id": "fc99770c-5101-40be-b1b5-7e0956400c05",
   "metadata": {},
   "source": [
    "4. There is a correlation between social activity and their personality trait. \n",
    "Null: Social activity and personality trait is independent. Alternate: Social activity and personality trait is correlated."
   ]
  },
  {
   "cell_type": "markdown",
   "id": "ec31f60c",
   "metadata": {},
   "source": [
    "# 5. Test your hypotheses."
   ]
  },
  {
   "cell_type": "markdown",
   "id": "b61652e9-8c83-4833-aae1-990be6c80343",
   "metadata": {},
   "source": [
    "1. Tests"
   ]
  },
  {
   "cell_type": "markdown",
   "id": "27e514f3-5092-46ac-b9bd-6c5118177a94",
   "metadata": {},
   "source": [
    "2. Tests"
   ]
  },
  {
   "cell_type": "code",
   "execution_count": 17,
   "id": "4279f962-e267-4551-8af2-7d19dce95d2d",
   "metadata": {},
   "outputs": [
    {
     "data": {
      "text/html": [
       "<div>\n",
       "<style scoped>\n",
       "    .dataframe tbody tr th:only-of-type {\n",
       "        vertical-align: middle;\n",
       "    }\n",
       "\n",
       "    .dataframe tbody tr th {\n",
       "        vertical-align: top;\n",
       "    }\n",
       "\n",
       "    .dataframe thead th {\n",
       "        text-align: right;\n",
       "    }\n",
       "</style>\n",
       "<table border=\"1\" class=\"dataframe\">\n",
       "  <thead>\n",
       "    <tr style=\"text-align: right;\">\n",
       "      <th>8. Are you a first, middle, last, or only child?</th>\n",
       "      <th>First</th>\n",
       "      <th>Last</th>\n",
       "      <th>Middle</th>\n",
       "      <th>Only child</th>\n",
       "    </tr>\n",
       "    <tr>\n",
       "      <th>Personality</th>\n",
       "      <th></th>\n",
       "      <th></th>\n",
       "      <th></th>\n",
       "      <th></th>\n",
       "    </tr>\n",
       "  </thead>\n",
       "  <tbody>\n",
       "    <tr>\n",
       "      <th>Ambivert</th>\n",
       "      <td>31</td>\n",
       "      <td>28</td>\n",
       "      <td>15</td>\n",
       "      <td>13</td>\n",
       "    </tr>\n",
       "    <tr>\n",
       "      <th>Extrovert</th>\n",
       "      <td>19</td>\n",
       "      <td>26</td>\n",
       "      <td>9</td>\n",
       "      <td>5</td>\n",
       "    </tr>\n",
       "    <tr>\n",
       "      <th>Introvert</th>\n",
       "      <td>28</td>\n",
       "      <td>24</td>\n",
       "      <td>13</td>\n",
       "      <td>9</td>\n",
       "    </tr>\n",
       "    <tr>\n",
       "      <th>Unknown</th>\n",
       "      <td>2</td>\n",
       "      <td>1</td>\n",
       "      <td>0</td>\n",
       "      <td>1</td>\n",
       "    </tr>\n",
       "  </tbody>\n",
       "</table>\n",
       "</div>"
      ],
      "text/plain": [
       "8. Are you a first, middle, last, or only child?  First  Last  Middle  \\\n",
       "Personality                                                             \n",
       "Ambivert                                             31    28      15   \n",
       "Extrovert                                            19    26       9   \n",
       "Introvert                                            28    24      13   \n",
       "Unknown                                               2     1       0   \n",
       "\n",
       "8. Are you a first, middle, last, or only child?  Only child  \n",
       "Personality                                                   \n",
       "Ambivert                                                  13  \n",
       "Extrovert                                                  5  \n",
       "Introvert                                                  9  \n",
       "Unknown                                                    1  "
      ]
     },
     "execution_count": 17,
     "metadata": {},
     "output_type": "execute_result"
    }
   ],
   "source": [
    "data = pd.crosstab(df2['Personality'], df2['8. Are you a first, middle, last, or only child?']) \n",
    "data"
   ]
  },
  {
   "cell_type": "code",
   "execution_count": 18,
   "id": "c0149110-f180-4e0e-aa50-e286da9f73d8",
   "metadata": {},
   "outputs": [
    {
     "name": "stdout",
     "output_type": "stream",
     "text": [
      "calculated chi square value:  4.825669781927424\n",
      "calculated p value:  0.8492325117269548\n"
     ]
    }
   ],
   "source": [
    "from scipy.stats import chi2_contingency\n",
    "chi, p, dfree, expected = chi2_contingency(data)\n",
    "print(\"calculated chi square value: \" ,chi)\n",
    "print(\"calculated p value: \" ,p)"
   ]
  },
  {
   "cell_type": "code",
   "execution_count": 19,
   "id": "4b490ff3-8c4e-4d2b-9455-9a3bd8e5d473",
   "metadata": {},
   "outputs": [
    {
     "name": "stdout",
     "output_type": "stream",
     "text": [
      "for 1 degree of freedom, the chi-square value needed to reject the hypothesis at the 0.001 significance level:\n"
     ]
    },
    {
     "data": {
      "text/plain": [
       "10.827566170662733"
      ]
     },
     "execution_count": 19,
     "metadata": {},
     "output_type": "execute_result"
    }
   ],
   "source": [
    "from scipy.stats import chi2\n",
    "print(\"for 1 degree of freedom, the chi-square value needed to reject the hypothesis at the 0.001 significance level:\")\n",
    "chi2.ppf(0.999, 1)"
   ]
  },
  {
   "cell_type": "markdown",
   "id": "47ccda11-aa79-4a85-aaa1-8687e2f3f4aa",
   "metadata": {},
   "source": [
    "![IMG_1323.png](attachment:IMG_1323.png)"
   ]
  },
  {
   "cell_type": "markdown",
   "id": "acbebd71-d8a6-4276-823a-5bd5868840e7",
   "metadata": {},
   "source": [
    "For this we used chi-square analysis and with both tests the failed to reject the null hypothesis therefore personality and birth order is independent. As we predicted that the more extroverted would be first or last born and middle or only would be more introverted. The prediction is not true because both of the tests fail to reject."
   ]
  },
  {
   "cell_type": "markdown",
   "id": "f45458e7-adcd-4945-8fac-fb7a3cfca15c",
   "metadata": {},
   "source": [
    "3. Tests"
   ]
  },
  {
   "cell_type": "code",
   "execution_count": null,
   "id": "8b97ecd4-07c3-4a68-9a3d-af6df79376d4",
   "metadata": {},
   "outputs": [],
   "source": []
  },
  {
   "cell_type": "markdown",
   "id": "fcec1481-4f23-41d1-bcfb-c3969b730c32",
   "metadata": {},
   "source": [
    "4. Tests"
   ]
  },
  {
   "cell_type": "code",
   "execution_count": null,
   "id": "0e0c5f67-59f4-41a8-958c-6ae4d5612b1d",
   "metadata": {},
   "outputs": [],
   "source": []
  }
 ],
 "metadata": {
  "kernelspec": {
   "display_name": "Python 3 (ipykernel)",
   "language": "python",
   "name": "python3"
  },
  "language_info": {
   "codemirror_mode": {
    "name": "ipython",
    "version": 3
   },
   "file_extension": ".py",
   "mimetype": "text/x-python",
   "name": "python",
   "nbconvert_exporter": "python",
   "pygments_lexer": "ipython3",
   "version": "3.9.12"
  }
 },
 "nbformat": 4,
 "nbformat_minor": 5
}
